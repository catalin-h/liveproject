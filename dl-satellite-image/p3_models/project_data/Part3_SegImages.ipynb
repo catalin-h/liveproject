{
 "cells": [
  {
   "cell_type": "markdown",
   "metadata": {
    "colab_type": "text",
    "id": "oWUCy6h3RvAx"
   },
   "source": [
    "<table style=\"font-size: 1em; padding: 0; margin: 0;\">\n",
    "\n",
    "<tr style=\"vertical-align: top; padding: 0; margin: 0;background-color: #ffffff\">\n",
    "        <td style=\"vertical-align: top; padding: 0; margin: 0; padding-right: 15px;\">\n",
    "    <p style=\"background: #182AEB; color:#ffffff; text-align:justify; padding: 10px 25px;\">\n",
    "        <strong style=\"font-size: 1.0em;\"><span style=\"font-size: 1.2em;\"><span style=\"color: #ffffff;\">Deep Learning </span> for Satellite Image Classification (Manning Publications)</span><br/>by <em>Daniel Buscombe</em> </strong><br/><br/>\n",
    "        <strong>> Chapter 3: Image Segmentation Models </strong><br/>\n",
    "    </p>           \n",
    "\n",
    "<p style=\"border: 1px solid #182AEB; border-left: 15px solid #182AEB; padding: 10px; text-align:justify;\">\n",
    "    <strong style=\"color: #182AEB\">What you learned in Part 2.</strong>  \n",
    "    <br/>In Part 2, you developed a number of datasets to train and test segmentation models: <br/> 1) An image set consisting of time-series of cloudless sentinel-2 imagery at a number of lakes undergoing change; <br/> 2) A subset of representative sample images and a corresponding label image set and label images for each sample image; <br/> 3) An image set consisting of NWPU-RESISC45 data consisting of 700-example satellite images each of 45 land cover/use classes, including lakes; and <br/> 4) A representative subset of NWPU-RESISC45 lake images and a corresponding label image set.\n",
    "    </p>\n",
    "    \n",
    "<p style=\"border: 1px solid #ff5733; border-left: 15px solid #ff5733; padding: 10px; text-align:justify;\">\n",
    "    <strong style=\"color: #ff5733\">What you will learn in this Part.</strong>  \n",
    "    <br/>In Part 3, you will first learn how to create image generators, and how to create an augmented data set of the above images and labels, consisting of the original set plus a set of randomly generated versions of the originals that have been transformed in some way. Then, you will learn how to build the deep convolutional autoencoder-decoder “U-Net” model to perform semantic segmentation of imagery. \n",
    "    </p>    "
   ]
  },
  {
   "cell_type": "markdown",
   "metadata": {
    "colab_type": "text",
    "id": "4E4FqG_lWPIg"
   },
   "source": [
    "<table style=\"font-size: 1em; padding: 0; margin: 0;\">\n",
    "\n",
    "<h1 style=\"width: 100%; text-align: left; padding: 0px 25px;\"><small style=\"color: #182AEB;\">\n",
    "    </small><br/>Introduction to <br/> Google Colab</h1>\n",
    "<br/>\n",
    "<p style=\"border-left: 15px solid #182AEB; text-align:justify; padding: 0 10px;\">\n",
    "When open in colaboratory, go to **Runtime** on the toolbar, then **Change runtime type**, and finally under **Hardware accelerator*** select **GPU** and hit **Save**. \n",
    "\n",
    "This will allow you to train models using a GPU, which is a necessity if you want model training to complete in a reasonable time. \n",
    "</p>\n",
    "<p style=\"border-left: 15px solid #6019D6; padding: 0 10px; text-align:justify;\">\n",
    "    <strong style=\"color: #6019D6;\">Tip.</strong> \n",
    "The following experiments are compute-heavy (large model and dataset). Make sure the procedures are performed on GPU(s)\n",
    "</p>\n",
    "        </tr>\n",
    "        </table>"
   ]
  },
  {
   "cell_type": "markdown",
   "metadata": {
    "colab_type": "text",
    "id": "OrITBcKDRvA1"
   },
   "source": [
    "<table style=\"font-size: 1em; padding: 0; margin: 0;\">\n",
    "\n",
    "<h1 style=\"width: 100%; text-align: left; padding: 0px 25px;\"><small style=\"color: #182AEB;\">\n",
    "    </small><br/>Preparing datasets for <br/> a deep learning project</h1>\n",
    "<br/>\n",
    "<p style=\"border-left: 15px solid #182AEB; text-align:justify; padding: 0 10px;\">\n",
    "This Part introduces several ways to generate satellite imagery and associated labels that you can use in your deliverables. We will use these data to perform a semantic segmentation of imagery to identify water pixels. Semantic segmentation is a type of <b>classification</b> algorithm.\n",
    "    In machine (deep) learning with imagery, a classification algorithm is usually one that is used to answer binary yes-or-no questions (e.g. \"Does this image contain water?\") or a multiclass classification (\"Which of the following is in this image: water, grass, trees?\"). Supervised classification is when you also provide the right answers or `labels', so an algorithm can learn from them. In semantic segmentation, each pixel is classified so labels are images where each pixel is a code that corresponds to a particular class. In our binary segmentation task, label images are composed of 1 for water and 0 for everything else. \n",
    " \n",
    "</p>\n",
    "<p style=\"border-left: 15px solid #6019D6; padding: 0 10px; text-align:justify;\">\n",
    "    <strong style=\"color: #6019D6;\">Tip.</strong> \n",
    "    <a href=\"https://machinelearningmastery.com/difference-test-validation-datasets/\">Read this guide to dataset splits:</a>\n",
    "<ul>\n",
    "  <li>Training dataset: The dataset that we use to train the model (weights and biases of the neural network). The model sees and learns from this data.</li>    \n",
    "  <li>Test dataset: The dataset that is used to evaluate the final trained model.</li>\n",
    "</ul>    \n",
    "</p>\n",
    "        </tr>\n",
    "        </table>"
   ]
  },
  {
   "cell_type": "markdown",
   "metadata": {
    "colab_type": "text",
    "id": "MZpW26HHv0wz"
   },
   "source": [
    "#### Copying the data: Colab users\n",
    "\n",
    "Import tensorflow, check the version, and make sure you have a GPU at your disposal\n",
    "\n",
    "Uncomment and run the cell below to ensure you have TensorFlow 2 installed on you colab environment (if that is how you are running this notebook)"
   ]
  },
  {
   "cell_type": "code",
   "execution_count": null,
   "metadata": {
    "colab": {},
    "colab_type": "code",
    "id": "3QTVJS7xj0DC"
   },
   "outputs": [],
   "source": [
    "colab = 0\n",
    "#colab = 1"
   ]
  },
  {
   "cell_type": "code",
   "execution_count": null,
   "metadata": {
    "colab": {
     "base_uri": "https://localhost:8080/",
     "height": 1000
    },
    "colab_type": "code",
    "executionInfo": {
     "elapsed": 44572,
     "status": "ok",
     "timestamp": 1572815586658,
     "user": {
      "displayName": "Daniel Buscombe",
      "photoUrl": "",
      "userId": "01832231008732716345"
     },
     "user_tz": 420
    },
    "id": "2UqQOGkZZgP-",
    "outputId": "580246f5-5596-49a1-f106-86d9bf79a560"
   },
   "outputs": [],
   "source": [
    "if colab==1:\n",
    "    !pip install --default-timeout=1000 tensorflow-gpu==2.0"
   ]
  },
  {
   "cell_type": "markdown",
   "metadata": {
    "colab_type": "text",
    "id": "cP4hQeYDcNvh"
   },
   "source": [
    "You may have to restart the runtime and/or change runtime type here, if the following doesn't show Tensorflow version 2, and a GPU available"
   ]
  },
  {
   "cell_type": "code",
   "execution_count": null,
   "metadata": {
    "colab": {},
    "colab_type": "code",
    "id": "V5eqSezGZuy_"
   },
   "outputs": [],
   "source": [
    "import tensorflow as tf"
   ]
  },
  {
   "cell_type": "code",
   "execution_count": null,
   "metadata": {
    "colab": {
     "base_uri": "https://localhost:8080/",
     "height": 34
    },
    "colab_type": "code",
    "executionInfo": {
     "elapsed": 1572,
     "status": "ok",
     "timestamp": 1572815616599,
     "user": {
      "displayName": "Daniel Buscombe",
      "photoUrl": "",
      "userId": "01832231008732716345"
     },
     "user_tz": 420
    },
    "id": "rLR7TM7DZz04",
    "outputId": "e7713cb8-db13-431d-c4f7-dac1d50820d3"
   },
   "outputs": [],
   "source": [
    "tf.__version__"
   ]
  },
  {
   "cell_type": "code",
   "execution_count": null,
   "metadata": {
    "colab": {
     "base_uri": "https://localhost:8080/",
     "height": 34
    },
    "colab_type": "code",
    "executionInfo": {
     "elapsed": 2640,
     "status": "ok",
     "timestamp": 1572815617890,
     "user": {
      "displayName": "Daniel Buscombe",
      "photoUrl": "",
      "userId": "01832231008732716345"
     },
     "user_tz": 420
    },
    "id": "LAXBEbZMwZbX",
    "outputId": "9ea9e975-231f-4a31-ae7d-dd6c5fdf77e6"
   },
   "outputs": [],
   "source": [
    "tf.test.is_gpu_available()"
   ]
  },
  {
   "cell_type": "markdown",
   "metadata": {
    "colab_type": "text",
    "id": "TPC_PyQfwbJw"
   },
   "source": [
    "If you are running this notebook on Colab, you may find the following workflow convenient, whereby images and labels are downloaded from google drive an unzipped, like we saw in Part 1"
   ]
  },
  {
   "cell_type": "code",
   "execution_count": null,
   "metadata": {
    "colab": {},
    "colab_type": "code",
    "id": "9lJ-SEKnR24D"
   },
   "outputs": [],
   "source": [
    "# from https://stackoverflow.com/questions/38511444/python-download-files-from-google-drive-using-url\n",
    "import requests\n",
    "\n",
    "def download_file_from_google_drive(id, destination):\n",
    "    URL = \"https://docs.google.com/uc?export=download\"\n",
    "\n",
    "    session = requests.Session()\n",
    "\n",
    "    response = session.get(URL, params = { 'id' : id }, stream = True)\n",
    "    token = get_confirm_token(response)\n",
    "\n",
    "    if token:\n",
    "        params = { 'id' : id, 'confirm' : token }\n",
    "        response = session.get(URL, params = params, stream = True)\n",
    "\n",
    "    save_response_content(response, destination)    \n",
    "\n",
    "def get_confirm_token(response):\n",
    "    for key, value in response.cookies.items():\n",
    "        if key.startswith('download_warning'):\n",
    "            return value\n",
    "\n",
    "    return None\n",
    "\n",
    "def save_response_content(response, destination):\n",
    "    CHUNK_SIZE = 32768\n",
    "\n",
    "    with open(destination, \"wb\") as f:\n",
    "        for chunk in response.iter_content(CHUNK_SIZE):\n",
    "            if chunk: # filter out keep-alive new chunks\n",
    "                f.write(chunk)"
   ]
  },
  {
   "cell_type": "markdown",
   "metadata": {
    "colab_type": "text",
    "id": "X-IG3PHHwcbY"
   },
   "source": [
    "Uncomment the ```download_file_from_google_drive``` to actually download the zipped files into Colab"
   ]
  },
  {
   "cell_type": "code",
   "execution_count": null,
   "metadata": {
    "colab": {},
    "colab_type": "code",
    "id": "qlY3Qav3R29r"
   },
   "outputs": [],
   "source": [
    "#imagery\n",
    "file_id = '1iMfIjr_ul49Ghs2ewazjCt8HMPfhY47h'\n",
    "destination = 's2cloudless_imagery.zip'\n",
    "if colab==1:\n",
    "    download_file_from_google_drive(file_id, destination)"
   ]
  },
  {
   "cell_type": "code",
   "execution_count": null,
   "metadata": {
    "colab": {},
    "colab_type": "code",
    "id": "k24kKz6_R3E4"
   },
   "outputs": [],
   "source": [
    "#labels\n",
    "file_id = '1c7MpwKVejoUuW9F2UaF_vps8Vq2RZRfR'\n",
    "destination = 's2cloudless_label_imagery.zip'\n",
    "if colab==1:\n",
    "    download_file_from_google_drive(file_id, destination)"
   ]
  },
  {
   "cell_type": "code",
   "execution_count": null,
   "metadata": {
    "colab": {},
    "colab_type": "code",
    "id": "kF4q0433R3C_"
   },
   "outputs": [],
   "source": [
    "import zipfile\n",
    "def unzip(f):\n",
    "    \"\"\"\n",
    "    f = file to be unzipped\n",
    "    \"\"\"    \n",
    "    with zipfile.ZipFile(f, 'r') as zip_ref:\n",
    "        zip_ref.extractall()"
   ]
  },
  {
   "cell_type": "markdown",
   "metadata": {
    "colab_type": "text",
    "id": "xpfrch4BwdUw"
   },
   "source": [
    "Again, for Colab users, uncomment the unzip commands"
   ]
  },
  {
   "cell_type": "code",
   "execution_count": null,
   "metadata": {
    "colab": {},
    "colab_type": "code",
    "id": "VJnhMsQAR3Ap"
   },
   "outputs": [],
   "source": [
    "if colab==1:\n",
    "    unzip('s2cloudless_imagery.zip')\n",
    "    unzip('s2cloudless_label_imagery.zip')"
   ]
  },
  {
   "cell_type": "markdown",
   "metadata": {
    "colab_type": "text",
    "id": "bgRTIeemTfoY"
   },
   "source": [
    "##### Other users (local desktop/laptop)\n",
    "\n",
    "Copy the ```s2cloudless_imagery``` directory over from ```2_Data```"
   ]
  },
  {
   "cell_type": "code",
   "execution_count": null,
   "metadata": {
    "colab": {},
    "colab_type": "code",
    "id": "DcLddQPETfoa"
   },
   "outputs": [],
   "source": [
    "if colab!=1:\n",
    "    import shutil, os\n",
    "    shutil.copytree('..'+os.sep+'2_Data'+os.sep+'s2cloudless_imagery', 's2cloudless_imagery')"
   ]
  },
  {
   "cell_type": "markdown",
   "metadata": {
    "colab_type": "text",
    "id": "_hP7BTEITfoe"
   },
   "source": [
    "Copy the ```s2cloudless_label_imagery``` directory over from ```2_Solution```"
   ]
  },
  {
   "cell_type": "code",
   "execution_count": null,
   "metadata": {
    "colab": {},
    "colab_type": "code",
    "id": "zZWJhlx3Tfog"
   },
   "outputs": [],
   "source": [
    "if colab!=1:\n",
    "    shutil.copytree('..'+os.sep+'2_Solution'+os.sep+'s2cloudless_label_imagery', 's2cloudless_label_imagery')"
   ]
  },
  {
   "cell_type": "markdown",
   "metadata": {
    "colab_type": "text",
    "id": "cp95SM62TfpV"
   },
   "source": [
    "Finally, copy over the labels json file"
   ]
  },
  {
   "cell_type": "code",
   "execution_count": null,
   "metadata": {
    "colab": {},
    "colab_type": "code",
    "id": "NTNU-R7CTfpW"
   },
   "outputs": [],
   "source": [
    "if colab!=1:\n",
    "    shutil.copy('..'+os.sep+'2_Data'+os.sep+'s2cloudless_labels'+os.sep+'all_labels.json', 'all_labels.json')"
   ]
  },
  {
   "cell_type": "markdown",
   "metadata": {
    "colab_type": "text",
    "id": "kedge5unTfp6"
   },
   "source": [
    "Optionally, you could now delete the original directories to save space"
   ]
  },
  {
   "cell_type": "markdown",
   "metadata": {
    "colab_type": "text",
    "id": "1CoIiA-Ewes3"
   },
   "source": [
    "#### Image Generator Functions"
   ]
  },
  {
   "cell_type": "markdown",
   "metadata": {
    "colab_type": "text",
    "id": "X--3YHtwTfp8"
   },
   "source": [
    "When training machine learning models on large data sets, it is often optimal to generate your dataset in real time and feed it right away to your deep learning model while it is training.\n",
    "\n",
    "We do that using generators. Read up on generators in python [here](https://realpython.com/introduction-to-python-generators/). The generator will _generate_ a batch of random images and associated masks, which is fed to the neural network at the start of a training epoch. Much more about training in the next Part. For now, we're concerned only with making that generator function. "
   ]
  },
  {
   "cell_type": "code",
   "execution_count": null,
   "metadata": {
    "colab": {},
    "colab_type": "code",
    "id": "yIXZ0VVCRvA3"
   },
   "outputs": [],
   "source": [
    "from PIL import Image, ImageDraw\n",
    "import matplotlib\n",
    "import matplotlib.pyplot as plt\n",
    "import numpy as np\n",
    "import json, os, glob"
   ]
  },
  {
   "cell_type": "markdown",
   "metadata": {
    "colab_type": "text",
    "id": "rhm-AabowgQE"
   },
   "source": [
    "The next function creates a generator that will randomly draw images from the training and testing sets. The inputs:\n",
    "\n",
    "* files = list of image files\n",
    "* batch_size = 32 = number of images (plus corresponding labels) to use in each batch \n",
    "* sz = (512, 512) = image size to use. Typically we want relatively small images for computational efficiency"
   ]
  },
  {
   "cell_type": "code",
   "execution_count": null,
   "metadata": {
    "colab": {},
    "colab_type": "code",
    "id": "g6B_BmZ1RvA8"
   },
   "outputs": [],
   "source": [
    "def image_batch_generator(files, batch_size = 32, sz = (512, 512)):\n",
    "  \n",
    "  while True: # this is here because it will be called repeatedly by the training function\n",
    "    \n",
    "    #extract a random subset of files of length \"batch_size\"\n",
    "    batch = np.random.choice(files, size = batch_size)    \n",
    "    \n",
    "    #variables for collecting batches of inputs (x) and outputs (y)\n",
    "    batch_x = []\n",
    "    batch_y = []\n",
    "    \n",
    "    #cycle through each image in the batch\n",
    "    for f in batch:\n",
    "\n",
    "        #preprocess the raw images \n",
    "        rawfile = f's2cloudless_imagery/data/{f}'\n",
    "        raw = Image.open(rawfile)\n",
    "        raw = raw.resize(sz)\n",
    "        raw = np.array(raw)\n",
    "\n",
    "        #check the number of channels because some of the images are RGBA or GRAY\n",
    "        if len(raw.shape) == 2:\n",
    "            raw = np.stack((raw,)*3, axis=-1)\n",
    "\n",
    "        else:\n",
    "            raw = raw[:,:,0:3]\n",
    "            \n",
    "        #get the image dimensions, find the min dimension, then square the image off    \n",
    "        nx, ny, nz = np.shape(raw)\n",
    "        n = np.minimum(nx,ny)\n",
    "        raw = raw[:n,:n,:] \n",
    "            \n",
    "        batch_x.append(raw)\n",
    "        \n",
    "        #get the masks. \n",
    "        maskfile = rawfile.replace('s2cloudless_imagery','s2cloudless_label_imagery')+'_mask.jpg'\n",
    "        mask = Image.open(maskfile)\n",
    "        # the mask is 3-dimensional so get the max in each channel to flatten to 2D\n",
    "        mask = np.max(np.array(mask.resize(sz)),axis=2)\n",
    "        # water pixels are always greater than 100\n",
    "        mask = (mask>100).astype('int')\n",
    "        \n",
    "        mask = mask[:n,:n]\n",
    "\n",
    "        batch_y.append(mask)\n",
    "\n",
    "    #preprocess a batch of images and masks \n",
    "    batch_x = np.array(batch_x)/255. #divide image by 255 to normalize\n",
    "    batch_y = np.array(batch_y)\n",
    "    batch_y = np.expand_dims(batch_y,3) #add singleton dimension to batch_y\n",
    "\n",
    "    yield (batch_x, batch_y) #yield both the image and the label together"
   ]
  },
  {
   "cell_type": "markdown",
   "metadata": {
    "colab_type": "text",
    "id": "9K7glEp4TfqD"
   },
   "source": [
    "Get a list of images and labels"
   ]
  },
  {
   "cell_type": "markdown",
   "metadata": {
    "colab_type": "text",
    "id": "6uEk1DXhceNf"
   },
   "source": [
    "Colab users, you will need to quickly upload your copy of ```all_labels.json``` here"
   ]
  },
  {
   "cell_type": "code",
   "execution_count": null,
   "metadata": {
    "colab": {},
    "colab_type": "code",
    "id": "VnsAFZkYTfqE"
   },
   "outputs": [],
   "source": [
    "data = json.load(open('all_labels.json'))"
   ]
  },
  {
   "cell_type": "code",
   "execution_count": null,
   "metadata": {
    "colab": {},
    "colab_type": "code",
    "id": "HplgowBFTfqI"
   },
   "outputs": [],
   "source": [
    "# get a sorted list of image filenames, which are the 'keys' of the dictionary object\n",
    "images = sorted(data.keys())"
   ]
  },
  {
   "cell_type": "code",
   "execution_count": null,
   "metadata": {
    "colab": {},
    "colab_type": "code",
    "id": "XvkjjsuoRvBH"
   },
   "outputs": [],
   "source": [
    "# use glob to find all jpg files in the imagery folder\n",
    "labels = sorted(glob.glob('s2cloudless_label_imagery'+os.sep+'data'+os.sep+'*.jpg'))\n",
    "# remove the subdirectory suffix from each label\n",
    "labels = [l.split(os.sep)[-1] for l in labels]"
   ]
  },
  {
   "cell_type": "markdown",
   "metadata": {
    "colab_type": "text",
    "id": "k1HvI9ZGTfqV"
   },
   "source": [
    "#### Setting up model training hyperparameters"
   ]
  },
  {
   "cell_type": "markdown",
   "metadata": {
    "colab_type": "text",
    "id": "RYItqE_F2CLn"
   },
   "source": [
    "Next we set our batch size (number of images to pass to each model training epoch, 5), and the proportion of all images to use for training (0.5, or 50%)"
   ]
  },
  {
   "cell_type": "code",
   "execution_count": null,
   "metadata": {
    "colab": {},
    "colab_type": "code",
    "id": "fd4kJ6sjRvBP"
   },
   "outputs": [],
   "source": [
    "batch_size = 5\n",
    "prop_train = 0.5"
   ]
  },
  {
   "cell_type": "markdown",
   "metadata": {
    "colab_type": "text",
    "id": "6oXgh-MLTfqZ"
   },
   "source": [
    "We define train and test splits simply as the first and second halves:"
   ]
  },
  {
   "cell_type": "code",
   "execution_count": null,
   "metadata": {
    "colab": {},
    "colab_type": "code",
    "id": "qt9FdOvNTfqa"
   },
   "outputs": [],
   "source": [
    "split = int(prop_train * len(images))\n",
    "\n",
    "#split into training and testing\n",
    "train_files = images[0:split]\n",
    "test_files  = images[split:]"
   ]
  },
  {
   "cell_type": "markdown",
   "metadata": {
    "colab_type": "text",
    "id": "VMkIZ5bF2WS0"
   },
   "source": [
    "The next few lines randomly select a few images and display them and their associated masks, and the resulting masked images. "
   ]
  },
  {
   "cell_type": "code",
   "execution_count": null,
   "metadata": {
    "colab": {},
    "colab_type": "code",
    "id": "3H0QemnhRvBR"
   },
   "outputs": [],
   "source": [
    "train_generator = image_batch_generator(train_files, batch_size = batch_size)\n",
    "test_generator  = image_batch_generator(test_files, batch_size = batch_size)"
   ]
  },
  {
   "cell_type": "markdown",
   "metadata": {
    "colab_type": "text",
    "id": "BySPnnuwTfqh"
   },
   "source": [
    "To access the ```next``` pair of image and label from the generator:"
   ]
  },
  {
   "cell_type": "code",
   "execution_count": null,
   "metadata": {
    "colab": {},
    "colab_type": "code",
    "id": "SEiMZFMyRvBU"
   },
   "outputs": [],
   "source": [
    "x, y= next(train_generator)"
   ]
  },
  {
   "cell_type": "markdown",
   "metadata": {
    "colab_type": "text",
    "id": "_WTMOGilTfqm"
   },
   "source": [
    "Make a function to generate an image for display, composed of the original image, binary mask, and masked image side-by-side"
   ]
  },
  {
   "cell_type": "code",
   "execution_count": null,
   "metadata": {
    "colab": {},
    "colab_type": "code",
    "id": "HmayH5ucRvBW"
   },
   "outputs": [],
   "source": [
    "def get_pair(i):\n",
    "    img = x[i]\n",
    "    msk = y[i].squeeze()\n",
    "    msk = np.stack((msk,)*3, axis=-1)\n",
    "    return np.concatenate([img, msk, img*msk], axis = 1)"
   ]
  },
  {
   "cell_type": "markdown",
   "metadata": {
    "colab_type": "text",
    "id": "ippmsWGaTfqt"
   },
   "source": [
    "Show the first five images"
   ]
  },
  {
   "cell_type": "code",
   "execution_count": null,
   "metadata": {
    "colab": {
     "base_uri": "https://localhost:8080/",
     "height": 1000
    },
    "colab_type": "code",
    "executionInfo": {
     "elapsed": 2441,
     "status": "ok",
     "timestamp": 1572816018998,
     "user": {
      "displayName": "Daniel Buscombe",
      "photoUrl": "",
      "userId": "01832231008732716345"
     },
     "user_tz": 420
    },
    "id": "343FE2kSRvBY",
    "outputId": "905f4754-74c1-49ec-80e0-65fee2ce531c"
   },
   "outputs": [],
   "source": [
    "plt.figure(figsize=(12,6))\n",
    "plt.axis('off')\n",
    "plt.imshow(get_pair(0))\n",
    "\n",
    "plt.figure(figsize=(12,6))\n",
    "plt.axis('off')\n",
    "plt.imshow(get_pair(1))\n",
    "\n",
    "plt.figure(figsize=(12,6))\n",
    "plt.axis('off')\n",
    "plt.imshow(get_pair(2))\n",
    "\n",
    "plt.figure(figsize=(12,6))\n",
    "plt.axis('off')\n",
    "plt.imshow(get_pair(3))\n",
    "\n",
    "plt.figure(figsize=(12,6))\n",
    "plt.axis('off')\n",
    "plt.imshow(get_pair(4))"
   ]
  },
  {
   "cell_type": "markdown",
   "metadata": {
    "colab_type": "text",
    "id": "lq_Xdd-GhKgD"
   },
   "source": [
    "in the next Part, you will see how we can use the ```image_batch_generator``` function above to get separate generators for training and testing subsets of the data, and pass each generator to a keras model training session. Given a ```batch_size``` and list of ```test``` and ```train``` filenames"
   ]
  },
  {
   "cell_type": "code",
   "execution_count": null,
   "metadata": {
    "colab": {},
    "colab_type": "code",
    "id": "oI0a9kQPhKs6"
   },
   "outputs": [],
   "source": [
    "#train_generator = image_batch_generator(train_files, batch_size = batch_size)\n",
    "#test_generator  = image_batch_generator(test_files, batch_size = batch_size)"
   ]
  },
  {
   "cell_type": "markdown",
   "metadata": {
    "colab_type": "text",
    "id": "XzsXX2Y-RvCG"
   },
   "source": [
    "<table style=\"font-size: 1em; padding: 0; margin: 0;\">\n",
    "\n",
    "<h1 style=\"width: 100%; text-align: left; padding: 0px 25px;\"><small style=\"color: #182AEB;\">\n",
    "    </small><br/>Image augmentation</h1>\n",
    "<br/>\n",
    "<p style=\"border-left: 15px solid #182AEB; text-align:justify; padding: 0 10px;\">\n",
    "Deep learning models usually need a lot of data to be properly trained. It is often useful to get more data from the existing ones using data augmentation techniques. The main ones are summed up in the table below. More precisely, given the following input image, here are some of the techniques that we can apply:\n",
    "\n",
    "* Flip (horizontal or vertical).\n",
    "* Rotation. \n",
    "* Brightness.  \n",
    "* Information loss\n",
    "* Random cropping (subsets of images)\n",
    "* Contrast\n",
    "* Random zoom\n",
    "* etc\n",
    "\n",
    "</p>\n",
    "        </tr>\n",
    "        </table>"
   ]
  },
  {
   "cell_type": "markdown",
   "metadata": {
    "colab_type": "text",
    "id": "JbrjxWeMc0sx"
   },
   "source": [
    "For consistency with previous Parts we will again use rasterio to read in image files"
   ]
  },
  {
   "cell_type": "code",
   "execution_count": null,
   "metadata": {
    "colab": {
     "base_uri": "https://localhost:8080/",
     "height": 326
    },
    "colab_type": "code",
    "executionInfo": {
     "elapsed": 5932,
     "status": "ok",
     "timestamp": 1572816031502,
     "user": {
      "displayName": "Daniel Buscombe",
      "photoUrl": "",
      "userId": "01832231008732716345"
     },
     "user_tz": 420
    },
    "id": "F3uLGiSYVjuf",
    "outputId": "6d91d406-ecfa-4915-d868-01941f6a0d02"
   },
   "outputs": [],
   "source": [
    "if colab==1:\n",
    "    !pip install rasterio"
   ]
  },
  {
   "cell_type": "code",
   "execution_count": null,
   "metadata": {
    "colab": {},
    "colab_type": "code",
    "id": "NWr0nDBPTfqz"
   },
   "outputs": [],
   "source": [
    "import json, os\n",
    "import glob\n",
    "import rasterio\n",
    "import numpy as np\n",
    "import matplotlib.pyplot as plt"
   ]
  },
  {
   "cell_type": "markdown",
   "metadata": {
    "colab_type": "text",
    "id": "qxeXjAjTc8EM"
   },
   "source": [
    "#### Principles and rationale of data augmentation and augmenting imagery with keras/Tensorflow 2"
   ]
  },
  {
   "cell_type": "markdown",
   "metadata": {
    "colab_type": "text",
    "id": "cTDXYyQZTfq4"
   },
   "source": [
    "The keras ```ImageDataGenerator``` function is extremely useful for implementing several common image augmentation strategies, for example the below would randomly apply zoom, shear, rotation, shifts, and requantization of the imagery "
   ]
  },
  {
   "cell_type": "code",
   "execution_count": null,
   "metadata": {
    "colab": {},
    "colab_type": "code",
    "id": "pfuyJJH6Tfq5"
   },
   "outputs": [],
   "source": [
    "im_gen = tf.keras.preprocessing.image.ImageDataGenerator(samplewise_center=True, \n",
    "samplewise_std_normalization=True, \n",
    "horizontal_flip = False, \n",
    "vertical_flip = False, \n",
    "height_shift_range = 0.1, \n",
    "width_shift_range = 0.1, \n",
    "rotation_range = 10, \n",
    "shear_range = 0.05,\n",
    "fill_mode = 'reflect', #'nearest',\n",
    "zoom_range= 0.2)"
   ]
  },
  {
   "cell_type": "markdown",
   "metadata": {
    "colab_type": "text",
    "id": "yRzUGueyTfq7"
   },
   "source": [
    "The above would apply only to one set of images, whereas we want to apply the same set of image transformations on both our images and the masks. A convenient way to do so is to create a dictionary of desired augmentations and pass to separate generators"
   ]
  },
  {
   "cell_type": "code",
   "execution_count": null,
   "metadata": {
    "colab": {},
    "colab_type": "code",
    "id": "rxwY49TBTfq7"
   },
   "outputs": [],
   "source": [
    "# we create two instances with the same arguments\n",
    "data_gen_args = dict(featurewise_center=True,\n",
    "                     featurewise_std_normalization=True,\n",
    "                     rotation_range=90,\n",
    "                     width_shift_range=0.1,\n",
    "                     height_shift_range=0.1,\n",
    "                     zoom_range=0.2)\n",
    "image_datagen = tf.keras.preprocessing.image.ImageDataGenerator(**data_gen_args)\n",
    "mask_datagen = tf.keras.preprocessing.image.ImageDataGenerator(**data_gen_args)"
   ]
  },
  {
   "cell_type": "markdown",
   "metadata": {
    "colab_type": "text",
    "id": "5VKJVBUQTfrA"
   },
   "source": [
    "#### Creating and merging image and mask generator functions\n",
    "\n",
    "In order to use an image generator you need to specify how information flows through it, or where the data is read from. We want to read imagery from directories of files, so the appropriate ```flow``` type to use is ```flow_from_directory```.\n",
    "\n",
    "Below is a fully worked example that creates generators that randomly apply up to 90 degree rotations and horizontal flips. The ```flow_from_directory``` for each specifies no random shuffling, which is important to ensure that images and labels correspond with one another. The images are also read in as 512 x 512 pixels, and the batch size is the entire data set (i.e. ```len(all_images)```)"
   ]
  },
  {
   "cell_type": "code",
   "execution_count": null,
   "metadata": {
    "colab": {
     "base_uri": "https://localhost:8080/",
     "height": 51
    },
    "colab_type": "code",
    "executionInfo": {
     "elapsed": 2401,
     "status": "ok",
     "timestamp": 1572816032135,
     "user": {
      "displayName": "Daniel Buscombe",
      "photoUrl": "",
      "userId": "01832231008732716345"
     },
     "user_tz": 420
    },
    "id": "ItQ_3zgLTfrB",
    "outputId": "e33048d4-9f97-4a3f-9e14-488349a809e8"
   },
   "outputs": [],
   "source": [
    "train_datagen = tf.keras.preprocessing.image.ImageDataGenerator(\n",
    "        featurewise_center=True,\n",
    "        featurewise_std_normalization=True,\n",
    "        shear_range=0,\n",
    "        zoom_range=0,\n",
    "        rotation_range=90,\n",
    "        horizontal_flip=True)\n",
    "\n",
    "img_generator = train_datagen.flow_from_directory(\n",
    "        's2cloudless_imagery',\n",
    "        target_size=(512, 512),\n",
    "        batch_size=len(images),\n",
    "        class_mode=None, seed=111, shuffle=False)\n",
    "\n",
    "test_datagen = tf.keras.preprocessing.image.ImageDataGenerator(\n",
    "        featurewise_center=True,\n",
    "        featurewise_std_normalization=True,    \n",
    "        shear_range=0,\n",
    "        zoom_range=0,\n",
    "        rotation_range=90,\n",
    "        horizontal_flip=True)\n",
    "\n",
    "mask_generator = test_datagen.flow_from_directory(\n",
    "        's2cloudless_label_imagery',\n",
    "        target_size=(512, 512),\n",
    "        batch_size=len(images),\n",
    "        class_mode=None, seed=111, shuffle=False)"
   ]
  },
  {
   "cell_type": "markdown",
   "metadata": {
    "colab_type": "text",
    "id": "4ckzP0IRTfrE"
   },
   "source": [
    "The following merges the two generators (and their flows) together:"
   ]
  },
  {
   "cell_type": "code",
   "execution_count": null,
   "metadata": {
    "colab": {},
    "colab_type": "code",
    "id": "UzuO4fvnTfrH"
   },
   "outputs": [],
   "source": [
    "train_generator = (pair for pair in zip(img_generator, mask_generator))"
   ]
  },
  {
   "cell_type": "markdown",
   "metadata": {
    "colab_type": "text",
    "id": "xrvi28loTfrL"
   },
   "source": [
    "#### Create and visualize arbitrary transformations to input imagery"
   ]
  },
  {
   "cell_type": "markdown",
   "metadata": {
    "colab_type": "text",
    "id": "qjihXLHRTfrN"
   },
   "source": [
    "To access the ```next``` pair of image and label from the generator:"
   ]
  },
  {
   "cell_type": "code",
   "execution_count": null,
   "metadata": {
    "colab": {
     "base_uri": "https://localhost:8080/",
     "height": 105
    },
    "colab_type": "code",
    "executionInfo": {
     "elapsed": 20305,
     "status": "ok",
     "timestamp": 1572816053142,
     "user": {
      "displayName": "Daniel Buscombe",
      "photoUrl": "",
      "userId": "01832231008732716345"
     },
     "user_tz": 420
    },
    "id": "oxewSHPbTfrO",
    "outputId": "1cfc8ec2-f8cd-445b-b01b-d3b1af809871"
   },
   "outputs": [],
   "source": [
    "x, y = next(train_generator)"
   ]
  },
  {
   "cell_type": "markdown",
   "metadata": {
    "colab_type": "text",
    "id": "X1ybR96OdD32"
   },
   "source": [
    "Take a look at the size and length of the data"
   ]
  },
  {
   "cell_type": "code",
   "execution_count": null,
   "metadata": {
    "colab": {
     "base_uri": "https://localhost:8080/",
     "height": 34
    },
    "colab_type": "code",
    "executionInfo": {
     "elapsed": 19414,
     "status": "ok",
     "timestamp": 1572816053143,
     "user": {
      "displayName": "Daniel Buscombe",
      "photoUrl": "",
      "userId": "01832231008732716345"
     },
     "user_tz": 420
    },
    "id": "dVbFL1emV7tm",
    "outputId": "e0bc5767-c7fc-4381-f84b-9060fc117a8c"
   },
   "outputs": [],
   "source": [
    "np.shape(np.max(y[10], axis=2))"
   ]
  },
  {
   "cell_type": "code",
   "execution_count": null,
   "metadata": {
    "colab": {
     "base_uri": "https://localhost:8080/",
     "height": 286
    },
    "colab_type": "code",
    "executionInfo": {
     "elapsed": 19405,
     "status": "ok",
     "timestamp": 1572816053662,
     "user": {
      "displayName": "Daniel Buscombe",
      "photoUrl": "",
      "userId": "01832231008732716345"
     },
     "user_tz": 420
    },
    "id": "1n4G-j0UTfrR",
    "outputId": "0f818cec-a3a9-4641-82fb-1b86c4e4e911"
   },
   "outputs": [],
   "source": [
    "%matplotlib inline\n",
    "plt.imshow((x[10]).astype('uint8'), cmap='gray') #show the 10th image\n",
    "plt.imshow(np.max(y[10], axis=2)/255, cmap='gray', alpha=0.5) #show the 10th label as an alpha mask"
   ]
  },
  {
   "cell_type": "markdown",
   "metadata": {
    "colab_type": "text",
    "id": "J1CunymhTfrT"
   },
   "source": [
    "A little more visually appealing is a figure with alpha channels appropriately set, like we did above"
   ]
  },
  {
   "cell_type": "code",
   "execution_count": null,
   "metadata": {
    "colab": {},
    "colab_type": "code",
    "id": "qrj6jCivTfrU"
   },
   "outputs": [],
   "source": [
    "def get_pair(i):\n",
    "    img = x[i].astype('uint8')/255\n",
    "    msk = np.max(y[i], axis=2)/255\n",
    "    msk[msk>=.5]  = 1\n",
    "    msk[msk<.5] = 0\n",
    "    msk = np.stack((msk,)*3, axis=-1)\n",
    "    return np.concatenate([img, msk], axis = 1)"
   ]
  },
  {
   "cell_type": "code",
   "execution_count": null,
   "metadata": {
    "colab": {
     "base_uri": "https://localhost:8080/",
     "height": 1000
    },
    "colab_type": "code",
    "executionInfo": {
     "elapsed": 19171,
     "status": "ok",
     "timestamp": 1572816055638,
     "user": {
      "displayName": "Daniel Buscombe",
      "photoUrl": "",
      "userId": "01832231008732716345"
     },
     "user_tz": 420
    },
    "id": "SQn8SnWeTfrW",
    "outputId": "ac78218e-87f7-4763-8ecd-45243c160149"
   },
   "outputs": [],
   "source": [
    "plt.figure(figsize=(12,6))\n",
    "plt.axis('off')\n",
    "plt.imshow(get_pair(0))\n",
    "\n",
    "plt.figure(figsize=(12,6))\n",
    "plt.axis('off')\n",
    "plt.imshow(get_pair(9))\n",
    "\n",
    "plt.figure(figsize=(12,6))\n",
    "plt.axis('off')\n",
    "plt.imshow(get_pair(19))\n",
    "\n",
    "plt.figure(figsize=(12,6))\n",
    "plt.axis('off')\n",
    "plt.imshow(get_pair(29))\n",
    "\n",
    "plt.figure(figsize=(12,6))\n",
    "plt.axis('off')\n",
    "plt.imshow(get_pair(39))"
   ]
  },
  {
   "cell_type": "markdown",
   "metadata": {
    "colab_type": "text",
    "id": "wDFKfmz2_x-N"
   },
   "source": [
    "<table style=\"font-size: 1em; padding: 0; margin: 0;\">\n",
    "\n",
    "<h1 style=\"width: 100%; text-align: left; padding: 0px 25px;\"><small style=\"color: #182AEB;\">\n",
    "    </small><br/>A brief introduction to <br/> Convolutional Neural Networks</h1>\n",
    "<br/>\n",
    "<p style=\"border-left: 15px solid #182AEB; text-align:justify; padding: 0 10px;\">\n",
    "    Here we explore in a little more detail convolutional neural networks, also known as <b>CNNs</b>, which are a specific type of neural networks used extensive in deep learning classification (and regression) tasks\n",
    "        </tr>\n",
    "        </table>"
   ]
  },
  {
   "cell_type": "markdown",
   "metadata": {
    "colab_type": "text",
    "id": "y9h4rVH5_tyn"
   },
   "source": [
    "##### Basic principles\n",
    "\n",
    "* Convolutional Neural Networks (CNNs) are very similar to ordinary Neural Networks: they are made up of neurons that have learnable weights and biases.\n",
    "\n",
    "* CNN architectures make the explicit assumption that the inputs are images, which allows us to encode certain properties into the architecture.\n",
    "\n",
    "Natural images exhibit ”‘stationarity”’, meaning that the statistics of one part of the image are the same as any other part. This suggests that the features that we learn at one part of the image can also be applied to other parts of the image, and we can use the same features at all locations.\n",
    "\n",
    "More precisely, having learned features over small (say 8x8) patches sampled randomly from the larger image, we can then apply this learned 8x8 feature detector anywhere in the image. Specifically, we can take the learned 8x8 features and ”‘convolve”’ them with the larger image, thus obtaining a different feature activation value at each location in the image.\n",
    "\n",
    "#### Layers\n",
    "\n",
    "The layers consist of hierarchical filters that are designed to extract features of increasingly complexity\n",
    "\n",
    "* The input of each layer is the output of the previous one\n",
    "\n",
    "* The layer does not need to learn the whole concept at once, but actually build a chain of features that build that knowledge.\n",
    "\n",
    "* It learns the best way to map inputs to outputs (you don’t need to)\n",
    "\n",
    "\n",
    "![](https://i1.wp.com/www.michaelchimenti.com/wp-content/uploads/2017/11/Deep-Neural-Network-What-is-Deep-Learning-Edureka.png)\n",
    "\n",
    "To demonstrate some principles we will load an image, convert it to a tensor"
   ]
  },
  {
   "cell_type": "code",
   "execution_count": null,
   "metadata": {
    "colab": {},
    "colab_type": "code",
    "id": "fONwL4vuTfrg"
   },
   "outputs": [],
   "source": [
    "%matplotlib inline\n",
    "import tensorflow as tf\n",
    "import matplotlib\n",
    "from matplotlib import pyplot as plt\n",
    "import rasterio, os\n",
    "import numpy as np"
   ]
  },
  {
   "cell_type": "code",
   "execution_count": null,
   "metadata": {
    "colab": {
     "base_uri": "https://localhost:8080/",
     "height": 340
    },
    "colab_type": "code",
    "executionInfo": {
     "elapsed": 2505,
     "status": "ok",
     "timestamp": 1572816074318,
     "user": {
      "displayName": "Daniel Buscombe",
      "photoUrl": "",
      "userId": "01832231008732716345"
     },
     "user_tz": 420
    },
    "id": "wBZ3pBoJTfrn",
    "outputId": "e3131654-2a5f-4a59-ca81-2b7ef7b5559a"
   },
   "outputs": [],
   "source": [
    "with rasterio.open('s2cloudless_imagery'+os.sep+'data'+os.sep+'walker_s2cloudless-2016.jpg') as dataset:\n",
    "    image = np.array(dataset.read().T)\n",
    "\n",
    "plt.imshow(image)"
   ]
  },
  {
   "cell_type": "code",
   "execution_count": null,
   "metadata": {
    "colab": {},
    "colab_type": "code",
    "id": "KEcZpjvKYAjM"
   },
   "outputs": [],
   "source": [
    "image = tf.image.rgb_to_grayscale(tf.image.resize(image, (128,128)) )   "
   ]
  },
  {
   "cell_type": "markdown",
   "metadata": {
    "colab_type": "text",
    "id": "4ts7No91Tfrr"
   },
   "source": [
    "To use this image with TensorFlow, we convert it into a `Tensor`. Many Tensorflow operations we will use in this project are meant for batches of images, i.e., of shape $(N, H, W, C)$ where $N$ is the number of images, $H$ and $W$ are height and width, and $C$ is the number of channels (3 = RGB, 1 = grayscale)\n",
    "\n",
    "Exapnd the dimensions of our image, and turn it into a batch consisting of just one image"
   ]
  },
  {
   "cell_type": "code",
   "execution_count": null,
   "metadata": {
    "colab": {},
    "colab_type": "code",
    "id": "s_hWCRk8Tfrt"
   },
   "outputs": [],
   "source": [
    "image = tf.convert_to_tensor(image, tf.float32, name=\"input_image\")\n",
    "image = tf.expand_dims(image, axis=0) "
   ]
  },
  {
   "cell_type": "code",
   "execution_count": null,
   "metadata": {
    "colab": {
     "base_uri": "https://localhost:8080/",
     "height": 34
    },
    "colab_type": "code",
    "executionInfo": {
     "elapsed": 320,
     "status": "ok",
     "timestamp": 1572816076451,
     "user": {
      "displayName": "Daniel Buscombe",
      "photoUrl": "",
      "userId": "01832231008732716345"
     },
     "user_tz": 420
    },
    "id": "uddGxfjnTfrz",
    "outputId": "853b18de-4299-454a-edba-fc986d639692"
   },
   "outputs": [],
   "source": [
    "print(\"Tensor shape: {}\".format(image.shape))"
   ]
  },
  {
   "cell_type": "markdown",
   "metadata": {
    "colab_type": "text",
    "id": "SgFQgLLZTfr3"
   },
   "source": [
    "#### Types of layers\n",
    "\n",
    "CNNs are generally composed of the following layers:\n",
    "\n",
    "![](https://stanford.edu/~shervine/images/architecture-cnn.png)\n",
    "[source](https://stanford.edu/~shervine/teaching/cs-230/cheatsheet-convolutional-neural-networks)\n",
    "\n",
    "##### Convolution layer (CONV)\n",
    "\n",
    "[source](http://deeplearning.stanford.edu/tutorial/supervised/FeatureExtractionUsingConvolution/)\n",
    "\n",
    "The convolution layer (CONV) uses filters that perform convolution operations as it is scanning the input with respect to its dimensions. Its hyperparameters include the filter size and stride length. The resulting output is called feature map or activation map.\n",
    "\n",
    "![](https://stanford.edu/~shervine/images/convolution-layer-a.png)"
   ]
  },
  {
   "cell_type": "code",
   "execution_count": null,
   "metadata": {
    "colab": {},
    "colab_type": "code",
    "id": "bzGbhIYq-OWb"
   },
   "outputs": [],
   "source": [
    "# define a Guassian blur filter\n",
    "a = np.zeros([3, 3, 1, 1])\n",
    "a[1, 1, :, :] = 0.25\n",
    "a[0, 1, :, :] = 0.125\n",
    "a[1, 0, :, :] = 0.125\n",
    "a[2, 1, :, :] = 0.125\n",
    "a[1, 2, :, :] = 0.125\n",
    "a[0, 0, :, :] = 0.0625\n",
    "a[0, 2, :, :] = 0.0625\n",
    "a[2, 0, :, :] = 0.0625\n",
    "a[2, 2, :, :] = 0.0625"
   ]
  },
  {
   "cell_type": "markdown",
   "metadata": {
    "colab_type": "text",
    "id": "ABd-JCHOItVh"
   },
   "source": [
    "To pass the tensor to the convolution algorithm we can actually convert $(N, H, W, C)$ to $(N, C, H, W)$ then provide the argument ```data_format = 'NCHW'```"
   ]
  },
  {
   "cell_type": "code",
   "execution_count": null,
   "metadata": {
    "colab": {},
    "colab_type": "code",
    "id": "YEA_Rn4ZApsP"
   },
   "outputs": [],
   "source": [
    "# reshape data \n",
    "proj = np.array(image).reshape(1,1,128,128)\n",
    "\n",
    "# convolve with filter\n",
    "proj = tf.nn.conv2d(\n",
    "    proj, a,\n",
    "    strides = [ 1, 1, 1, 1 ],\n",
    "    padding = 'SAME',\n",
    "    data_format = 'NCHW'\n",
    ")"
   ]
  },
  {
   "cell_type": "code",
   "execution_count": null,
   "metadata": {
    "colab": {
     "base_uri": "https://localhost:8080/",
     "height": 285
    },
    "colab_type": "code",
    "executionInfo": {
     "elapsed": 495,
     "status": "ok",
     "timestamp": 1572816083867,
     "user": {
      "displayName": "Daniel Buscombe",
      "photoUrl": "",
      "userId": "01832231008732716345"
     },
     "user_tz": 420
    },
    "id": "b2U2XMfRBt0q",
    "outputId": "6d263146-f403-4ab5-afba-0263a1edc800"
   },
   "outputs": [],
   "source": [
    "# display convolved image\n",
    "plt.imshow(np.squeeze(proj), cmap='gray')"
   ]
  },
  {
   "cell_type": "markdown",
   "metadata": {
    "colab_type": "text",
    "id": "Y2cmyxRu1aqq"
   },
   "source": [
    "The `tf.nn.conv2d` layer is the backend to the keras `Conv2D` layer that we'll make repeated use of in this project, so it's worth spending some time getting to know its arguments:\n",
    "\n",
    "* `strides` is a list of 4 integers that defines the stride to take (how many pixels to shift in each of the 4 dimensions) for the kernel during the convolution operation\n",
    "\n",
    "* `padding` This is the instruction of what the convolution algorithm should do at the boundary of the data. It can be a specific padding dimension in pixels but more typically `SAME` and `VALID` are used. `VALID` means no padding (the filters slide only the _valid_ pixels not too near the boundary) and `SAME` means it will enforce the outputs to be the same as the inputs by temporarily setting the stride length to fit evenly at the boundary\n",
    "\n",
    "Convolutions like this are at the center of deep learning and convolutional neural networks. Their repeated application, with pooling layers, distill the relevant information in the image for the task."
   ]
  },
  {
   "cell_type": "markdown",
   "metadata": {
    "colab_type": "text",
    "id": "wg3fsWwPTfsR"
   },
   "source": [
    "##### Pooling (POOL)\n",
    "\n",
    "The pooling layer (POOL) is a downsampling operation, typically applied after a convolution layer, which does some spatial invariance. In particular, max and average pooling are special kinds of pooling where the maximum and average value is taken, respectively.\n",
    "\n",
    "![](https://stanford.edu/~shervine/images/max-pooling-a.png)\n",
    "[source](https://stanford.edu/~shervine/teaching/cs-230/cheatsheet-convolutional-neural-networks)\n",
    "\n",
    "For ***max-pooling*** and ***average-pooling***, the values in each window are aggregated into a single output, applying respectively the max or averaging operation. \n",
    "\n",
    "Apply the average pooling operator with stride lengths of 1, 1, 2, and 2 for, respectively, the $(N, C, H, W)$ dimensions, meaning the pooled image will be half the size in $H$ and $W$\n",
    "\n",
    "The code below uses a kernel size of 16 pixels in the $H$ dimension, which will result in vertical smearing of the image"
   ]
  },
  {
   "cell_type": "code",
   "execution_count": null,
   "metadata": {
    "colab": {},
    "colab_type": "code",
    "id": "58SCKrc9adr2"
   },
   "outputs": [],
   "source": [
    "avg_pooled_image = tf.nn.avg_pool(proj, ksize=[1, 1, 16, 1], strides=[1, 1, 1, 2], padding=\"SAME\")"
   ]
  },
  {
   "cell_type": "code",
   "execution_count": null,
   "metadata": {
    "colab": {
     "base_uri": "https://localhost:8080/",
     "height": 34
    },
    "colab_type": "code",
    "executionInfo": {
     "elapsed": 645,
     "status": "ok",
     "timestamp": 1572816086814,
     "user": {
      "displayName": "Daniel Buscombe",
      "photoUrl": "",
      "userId": "01832231008732716345"
     },
     "user_tz": 420
    },
    "id": "Cg3ckg4WK8z7",
    "outputId": "fc87a3fd-cfcc-46fb-a54f-957a3624830c"
   },
   "outputs": [],
   "source": [
    "avg_res = avg_pooled_image.numpy() #eager execution allows direct conversion to numpy array\n",
    "np.shape(avg_res) # get shape of the array"
   ]
  },
  {
   "cell_type": "markdown",
   "metadata": {
    "colab_type": "text",
    "id": "0o2h-ByuJygE"
   },
   "source": [
    "We used a kernel size of 16 pixels in the $H$ dimension, therefore the result is a pooled image that is smoothed vertically but not horizontally "
   ]
  },
  {
   "cell_type": "code",
   "execution_count": null,
   "metadata": {
    "colab": {
     "base_uri": "https://localhost:8080/",
     "height": 285
    },
    "colab_type": "code",
    "executionInfo": {
     "elapsed": 818,
     "status": "ok",
     "timestamp": 1572816088205,
     "user": {
      "displayName": "Daniel Buscombe",
      "photoUrl": "",
      "userId": "01832231008732716345"
     },
     "user_tz": 420
    },
    "id": "5RLY6-reTfsR",
    "outputId": "5d7b551d-2ea2-4f60-9d2f-d593c780bcad"
   },
   "outputs": [],
   "source": [
    "plt.imshow(np.squeeze(avg_res), cmap=plt.cm.gray)"
   ]
  },
  {
   "cell_type": "markdown",
   "metadata": {
    "colab_type": "text",
    "id": "gHq3XHexTfsf"
   },
   "source": [
    "##### Fully Connected (FC)\n",
    "\n",
    "The fully connected layer (FC) operates on a flattened input where each input is connected to all neurons. If present, FC layers are usually found towards the end of CNN architectures and can be used to convert multidimensional features into a 1d vector of class scores.\n",
    "\n",
    "![](https://stanford.edu/~shervine/images/fully-connected.png)\n",
    "[source](https://stanford.edu/~shervine/teaching/cs-230/cheatsheet-convolutional-neural-networks)"
   ]
  },
  {
   "cell_type": "markdown",
   "metadata": {
    "colab_type": "text",
    "id": "mCkWPrVpTfsk"
   },
   "source": [
    "<table style=\"font-size: 1em; padding: 0; margin: 0;\">\n",
    "\n",
    "<h1 style=\"width: 100%; text-align: left; padding: 0px 25px;\"><small style=\"color: #182AEB;\">\n",
    "    </small><br/>Introduction to <br/> Auto-encoder networks</h1>\n",
    "<br/>\n",
    "<p style=\"border-left: 15px solid #182AEB; text-align:justify; padding: 0 10px;\">\n",
    "Autoencoders receive input data (image), encode it, then returns the same data on the output layer. They are kind of neural network that take an image and compress the information in it to a linear feature representation (vector) or \"code\". The \"code\" is upsampled by the decoder portion of the auto-encoder, called the \"decryption\" layer. The architecture preserves the dimensionality of input->output. But, the linear compression of the input leads to a bottleneck that does not transmit all features.  \n",
    "\n",
    "Below we will make a deep autoencoder that creates outputs from extremely compressed inputs, which could be used for image denoising.\n",
    "  \n",
    "</p>\n",
    "<p style=\"border-left: 15px solid #6019D6; padding: 0 10px; text-align:justify;\">\n",
    "    <strong style=\"color: #6019D6;\">Tip.</strong> \n",
    "We can have more than one hidden layers and than we have so-called Deep Autoencoders. The U-Net and FCN models we will use later are two different types of deep autoencoders modified for for semantic segmentation.\n",
    "</p>\n",
    "        </tr>\n",
    "        </table>"
   ]
  },
  {
   "cell_type": "markdown",
   "metadata": {
    "colab_type": "text",
    "id": "XKwk6UakAKWD"
   },
   "source": [
    "##### Preparing the dataset"
   ]
  },
  {
   "cell_type": "markdown",
   "metadata": {
    "colab_type": "text",
    "id": "87QFfO7s_TT_"
   },
   "source": [
    "Read each image and keep track of the minimum dimension of all images (later all images will be cropped to this square dimension)"
   ]
  },
  {
   "cell_type": "code",
   "execution_count": null,
   "metadata": {
    "colab": {
     "base_uri": "https://localhost:8080/",
     "height": 71
    },
    "colab_type": "code",
    "executionInfo": {
     "elapsed": 21506,
     "status": "ok",
     "timestamp": 1572816193297,
     "user": {
      "displayName": "Daniel Buscombe",
      "photoUrl": "",
      "userId": "01832231008732716345"
     },
     "user_tz": 420
    },
    "id": "Ft7gyhGHchfe",
    "outputId": "1b5b0fed-d56a-4b07-9921-d4360e4794e4"
   },
   "outputs": [],
   "source": [
    "import rasterio, json, os\n",
    "import numpy as np\n",
    "\n",
    "# load the labels than contain the image list\n",
    "data = json.load(open('all_labels.json'))\n",
    "images = sorted(data.keys())\n",
    "\n",
    "# pre-allocate arrays for images and minimum dimensions\n",
    "all_images = []; N = []\n",
    "for image in images: # loop through each image file\n",
    "    with rasterio.open('s2cloudless_imagery'+os.sep+'data'+os.sep+image) as dataset:\n",
    "        tmp = np.squeeze(np.array(dataset.read().T)) #read the data and transpose\n",
    "        nx, ny, _ = np.shape(tmp) # get the dimensions\n",
    "        n = np.minimum(nx,ny) # get the minimum dimension\n",
    "        all_images.append(tmp) # append the image\n",
    "        N.append(n) #append the min dimension"
   ]
  },
  {
   "cell_type": "markdown",
   "metadata": {
    "colab_type": "text",
    "id": "NaIj_ftR_OSn"
   },
   "source": [
    "Crop all images to the same minimum square extent"
   ]
  },
  {
   "cell_type": "code",
   "execution_count": null,
   "metadata": {
    "colab": {},
    "colab_type": "code",
    "id": "wGkU5XhQhelC"
   },
   "outputs": [],
   "source": [
    "n = np.min(N) # get the global minimum dimension\n",
    "all_images = [l[:n,:n] for l in all_images] # crop all images to that square dimension\n",
    "all_images = np.array(all_images) # convert list to a numpy array"
   ]
  },
  {
   "cell_type": "markdown",
   "metadata": {
    "colab_type": "text",
    "id": "v4_ZNzHJ-5ED"
   },
   "source": [
    "Check the shapes ($N$, $H$, $W$, $C$):"
   ]
  },
  {
   "cell_type": "code",
   "execution_count": null,
   "metadata": {
    "colab": {
     "base_uri": "https://localhost:8080/",
     "height": 34
    },
    "colab_type": "code",
    "executionInfo": {
     "elapsed": 21604,
     "status": "ok",
     "timestamp": 1572816195590,
     "user": {
      "displayName": "Daniel Buscombe",
      "photoUrl": "",
      "userId": "01832231008732716345"
     },
     "user_tz": 420
    },
    "id": "ynBc5uHigYdk",
    "outputId": "5eff65d9-317e-4a30-8a5c-afe22543ed56"
   },
   "outputs": [],
   "source": [
    "print(all_images.shape)"
   ]
  },
  {
   "cell_type": "markdown",
   "metadata": {
    "colab_type": "text",
    "id": "Fk96ZY4u-_yt"
   },
   "source": [
    "Define an output image size"
   ]
  },
  {
   "cell_type": "code",
   "execution_count": null,
   "metadata": {
    "colab": {},
    "colab_type": "code",
    "id": "rrZ4qwE48ZKW"
   },
   "outputs": [],
   "source": [
    "IMG_SIZE = 124"
   ]
  },
  {
   "cell_type": "markdown",
   "metadata": {
    "colab_type": "text",
    "id": "Sf0YUS6N_B-0"
   },
   "source": [
    "Resize each image and keep only the first (red) band"
   ]
  },
  {
   "cell_type": "code",
   "execution_count": null,
   "metadata": {
    "colab": {},
    "colab_type": "code",
    "id": "1NLu4Ek_svml"
   },
   "outputs": [],
   "source": [
    "#import tensorflow as tf\n",
    "all_images2 = np.zeros((40,IMG_SIZE,IMG_SIZE))\n",
    "counter = 0\n",
    "for k in all_images:\n",
    "    all_images2[counter,:,:] = np.squeeze(tf.image.resize(k, (IMG_SIZE,IMG_SIZE), method='nearest'))[:,:,0]\n",
    "    counter += 1"
   ]
  },
  {
   "cell_type": "markdown",
   "metadata": {
    "colab_type": "text",
    "id": "np9gkESs-zJR"
   },
   "source": [
    "Let's take a look at an image"
   ]
  },
  {
   "cell_type": "code",
   "execution_count": null,
   "metadata": {
    "colab": {
     "base_uri": "https://localhost:8080/",
     "height": 286
    },
    "colab_type": "code",
    "executionInfo": {
     "elapsed": 17981,
     "status": "ok",
     "timestamp": 1572816196524,
     "user": {
      "displayName": "Daniel Buscombe",
      "photoUrl": "",
      "userId": "01832231008732716345"
     },
     "user_tz": 420
    },
    "id": "ZV9d71nPtPJP",
    "outputId": "780440e2-c8aa-4e3d-d4cb-4b9cb6c5c774"
   },
   "outputs": [],
   "source": [
    "%matplotlib inline\n",
    "import matplotlib.pyplot as plt\n",
    "\n",
    "plt.imshow(all_images2[10].astype('uint8'), cmap='gray')\n",
    "plt.colorbar()"
   ]
  },
  {
   "cell_type": "markdown",
   "metadata": {
    "colab_type": "text",
    "id": "ZcU6WpML-Z4I"
   },
   "source": [
    "Use the first 30 images for training and the last 10 for testing"
   ]
  },
  {
   "cell_type": "code",
   "execution_count": null,
   "metadata": {
    "colab": {},
    "colab_type": "code",
    "id": "gGOV6MF7eKAE"
   },
   "outputs": [],
   "source": [
    "x_train = all_images2[:30,:,:]\n",
    "x_test = all_images2[30:,:,:]"
   ]
  },
  {
   "cell_type": "markdown",
   "metadata": {
    "colab_type": "text",
    "id": "jxYj8AkX-RaG"
   },
   "source": [
    "Check the shapes"
   ]
  },
  {
   "cell_type": "code",
   "execution_count": null,
   "metadata": {
    "colab": {
     "base_uri": "https://localhost:8080/",
     "height": 51
    },
    "colab_type": "code",
    "executionInfo": {
     "elapsed": 369,
     "status": "ok",
     "timestamp": 1572816249493,
     "user": {
      "displayName": "Daniel Buscombe",
      "photoUrl": "",
      "userId": "01832231008732716345"
     },
     "user_tz": 420
    },
    "id": "BJccy3ERfKkv",
    "outputId": "5d16ae8d-e7d3-48ee-8433-b98d2a137d13"
   },
   "outputs": [],
   "source": [
    "print(x_train.shape)\n",
    "print(x_test.shape)"
   ]
  },
  {
   "cell_type": "markdown",
   "metadata": {
    "colab_type": "text",
    "id": "EgLzPheAL0O-"
   },
   "source": [
    "We no longer need ```all_images```"
   ]
  },
  {
   "cell_type": "code",
   "execution_count": null,
   "metadata": {
    "colab": {},
    "colab_type": "code",
    "id": "ANcuWFuOzjOD"
   },
   "outputs": [],
   "source": [
    "del all_images"
   ]
  },
  {
   "cell_type": "markdown",
   "metadata": {
    "colab_type": "text",
    "id": "5u8zUbAvApi-"
   },
   "source": [
    "Import the necessary layers and ```Model``` structure from keras"
   ]
  },
  {
   "cell_type": "code",
   "execution_count": null,
   "metadata": {
    "colab": {},
    "colab_type": "code",
    "id": "lUb1XOoL62_Y"
   },
   "outputs": [],
   "source": [
    "from tensorflow.keras.layers import Input, Conv2D, MaxPooling2D, UpSampling2D\n",
    "from tensorflow.keras.models import Model"
   ]
  },
  {
   "cell_type": "markdown",
   "metadata": {
    "colab_type": "text",
    "id": "e7V62g7-Tfso"
   },
   "source": [
    "##### Theory in action: Auto-encoding\n",
    "\n",
    "The following class carries out training and prediction for a deep convolutional autoencoder. The 'encoding' part uses 3 blocks of convolutional filters and 2 max pooling layers for 'auto'mated feature extraction. The feature vector, or 'code', is then upscaled using the reverse sequence of operations in the encoding part. Training is then used to optimize the weights of all the convolutional filters.\n",
    "\n",
    "This is exactly how we will later use deep autoencoder models for semantic segmentation. This exercise is designed to introduce you to the basic building blocks and concepts of the encoding-decoding concept.\n",
    "\n",
    "The goal in the following lines of code is to properly encode then decode an image wihout impacting the quality, despite the so-called _bottleneck_ which is the 'code' or low-dimesional feature representation. The bottleneck forces the model to learn a properly compressed representation of the salient image features extracted by the network "
   ]
  },
  {
   "cell_type": "code",
   "execution_count": null,
   "metadata": {
    "colab": {},
    "colab_type": "code",
    "id": "yo1SuUkH0bgh"
   },
   "outputs": [],
   "source": [
    "# make a python class \n",
    "class Deep_Autoencoder():\n",
    "    \n",
    "    def __init__(self):    \n",
    "        \n",
    "        ## the Encoding part\n",
    "        # use grayscale only so W x H x 1\n",
    "        in_ = Input(shape=(IMG_SIZE, IMG_SIZE, 1))\n",
    "        # 2d convolution layer with 32 output filters in the convolution, \n",
    "        # 3x3 pixel kernel, and Relu activation\n",
    "        _ = Conv2D(32, (3, 3), activation='relu', padding='same')(in_)\n",
    "        #'_' is being used as a intermediate variable that is overwritten in each layer\n",
    "        _ = MaxPooling2D((2, 2), padding='same')(_)\n",
    "        # a smaller convolutional block with 16 filters\n",
    "        _ = Conv2D(16, (3, 3), activation='relu', padding='same')(_)\n",
    "        # max pooling layer\n",
    "        _ = MaxPooling2D((2, 2), padding='same')(_)\n",
    "        # a third convolutional block\n",
    "        _ = Conv2D(16, (3, 3), activation='relu', padding='same')(_)\n",
    "        \n",
    "        ## The \"Code\" is the output of the 2nd max pooling\n",
    "        code = MaxPooling2D((2, 2), padding='same')(_)\n",
    "        \n",
    "        ## The Decoding part is the inverse operation to the above\n",
    "        _ = Conv2D(16, (3, 3), activation='relu', padding='same')(code)\n",
    "        _ = UpSampling2D((2, 2))(_)\n",
    "        _ = Conv2D(16, (3, 3), activation='relu', padding='same')(_)\n",
    "        _ = UpSampling2D((2, 2))(_)\n",
    "        _ = Conv2D(32, (3, 3), activation='relu')(_)\n",
    "        _ = UpSampling2D((2, 2))(_)\n",
    "        out_ = Conv2D(1, (3, 3), activation='sigmoid', padding='same')(_)\n",
    "        \n",
    "        # set up model inputs and outputs, solver (RMSprop) and loss function\n",
    "        self._model = Model(in_, out_)\n",
    "        self._model.compile(optimizer='rmsprop', loss='binary_crossentropy')\n",
    "        \n",
    "    # train is a callable function of the Deep_Autoencoder class object   \n",
    "    # for training the model\n",
    "    def do_training(self, in_train, in_test, batch_size, num_epochs):    \n",
    "        self._model.fit(in_train, # the train and validation data are the same in this case\n",
    "                        in_train,\n",
    "                        verbose = 1,\n",
    "                        epochs = num_epochs,\n",
    "                        batch_size = batch_size,\n",
    "                        shuffle = True,\n",
    "                        validation_data = (in_test, in_test))\n",
    "        \n",
    "    # returns a model prediction (a decoded image)\n",
    "    def get_image(self, encoded_images):\n",
    "        decoded_images = self._model.predict(encoded_images)\n",
    "        return decoded_images"
   ]
  },
  {
   "cell_type": "markdown",
   "metadata": {
    "colab_type": "text",
    "id": "Bviknth-0GXV"
   },
   "source": [
    "We brushed over an important line above that warrants some further exploration:\n",
    "\n",
    "`self._model.compile(optimizer='rmsprop', loss='binary_crossentropy')`\n",
    "\n",
    "The `compile` command is required before training the model. The `optimizer` will perform the gradient descent, and `loss` is the metric to optimize\n",
    "\n",
    "In the `fit` arguments, by setting `verbose` to 1 gives you a progress bar as the model trains"
   ]
  },
  {
   "cell_type": "markdown",
   "metadata": {
    "colab_type": "text",
    "id": "QosBOXTjcaqz"
   },
   "source": [
    "Prepare the inputs by scaling between 0 and 1 as floats, and reshaped as tensors"
   ]
  },
  {
   "cell_type": "code",
   "execution_count": null,
   "metadata": {
    "colab": {},
    "colab_type": "code",
    "id": "AJVoLLCk1-xc"
   },
   "outputs": [],
   "source": [
    "x_train = x_train.astype('float32') / 255. #make into a float between 0 and 1\n",
    "x_test = x_test.astype('float32') / 255.\n",
    "x_train = np.reshape(x_train, (len(x_train), IMG_SIZE, IMG_SIZE, 1))\n",
    "x_test = np.reshape(x_test, (len(x_test), IMG_SIZE, IMG_SIZE, 1))"
   ]
  },
  {
   "cell_type": "markdown",
   "metadata": {
    "colab_type": "text",
    "id": "MlCkqhyoatjB"
   },
   "source": [
    "Create an empty deep autoencoder class, then train for 100 iterations using a batch size of 8 images. Then, recover the decoded images using the trained model ```dae```\n"
   ]
  },
  {
   "cell_type": "code",
   "execution_count": null,
   "metadata": {
    "colab": {
     "base_uri": "https://localhost:8080/",
     "height": 1000
    },
    "colab_type": "code",
    "executionInfo": {
     "elapsed": 11591,
     "status": "ok",
     "timestamp": 1572816266749,
     "user": {
      "displayName": "Daniel Buscombe",
      "photoUrl": "",
      "userId": "01832231008732716345"
     },
     "user_tz": 420
    },
    "id": "4WKbVh7q6t_W",
    "outputId": "3a7f1a0f-6686-431d-ceb5-9fe87e2cb3df"
   },
   "outputs": [],
   "source": [
    "dae = Deep_Autoencoder()\n",
    "dae.do_training(x_train, x_test, 8, 100)\n",
    "decoded_imgs = dae.get_image(x_test)"
   ]
  },
  {
   "cell_type": "markdown",
   "metadata": {
    "colab_type": "text",
    "id": "jnRujACOc12q"
   },
   "source": [
    "Visual comparison of inputs and autoencoded-decoded outputs. As you can see, the model does a reasonably good job at image mimickry "
   ]
  },
  {
   "cell_type": "code",
   "execution_count": null,
   "metadata": {
    "colab": {
     "base_uri": "https://localhost:8080/",
     "height": 217
    },
    "colab_type": "code",
    "executionInfo": {
     "elapsed": 11054,
     "status": "ok",
     "timestamp": 1572816267550,
     "user": {
      "displayName": "Daniel Buscombe",
      "photoUrl": "",
      "userId": "01832231008732716345"
     },
     "user_tz": 420
    },
    "id": "K0wXO-171q-N",
    "outputId": "afda78f4-5877-426e-be63-463b5b40a3b8"
   },
   "outputs": [],
   "source": [
    "#create a wide (16) and short (3) figure to show 10 images\n",
    "# and their autoencoded representations stacked top to bottom\n",
    "plt.figure(figsize=(16, 3))\n",
    "# loop through 10 sample images\n",
    "for i in range(10):\n",
    "    # inputs\n",
    "    subplot = plt.subplot(2, 10, i + 1)\n",
    "    plt.imshow(x_test[i].reshape(IMG_SIZE, IMG_SIZE))\n",
    "    plt.gray()\n",
    "    subplot.get_xaxis().set_visible(False) #turn x-axis off\n",
    "    subplot.get_yaxis().set_visible(False) #turn y-axis off\n",
    "\n",
    "    # reconstructed inputs\n",
    "    subplot = plt.subplot(2, 10, i + 11)\n",
    "    plt.imshow(decoded_imgs[i].reshape(IMG_SIZE, IMG_SIZE))\n",
    "    plt.gray()\n",
    "    subplot.get_xaxis().set_visible(False)\n",
    "    subplot.get_yaxis().set_visible(False)\n",
    "plt.show()"
   ]
  },
  {
   "cell_type": "markdown",
   "metadata": {
    "colab_type": "text",
    "id": "l0JvxnvyfODY"
   },
   "source": [
    "> Going Further\n",
    "\n",
    "Do you think the semantic segmentation task of detecing water pixels would be easier or harder with the coarser detail autoencoder estimates?\n",
    "\n",
    "On the one hand, it might be easier because there is less extraneous detail preserved from the terrain surrounding the lakes, therefore it might be easier for a model to identify the wet pixels and more reliably distinguish them from the dry pixels.\n",
    "\n",
    "On the other hand, the loss of detail may also make the lake boundary fuzzy and harder to detect, thereby potentially introducing error in the metrics used to quantify water availability over time. You now have the tools to explore these issues further, by generating datasets based on images in their native resolution and format, versus filtered versions."
   ]
  },
  {
   "cell_type": "markdown",
   "metadata": {
    "colab_type": "text",
    "id": "B1IRSx0LcB0d"
   },
   "source": [
    "#### The U-Net model"
   ]
  },
  {
   "cell_type": "markdown",
   "metadata": {
    "colab_type": "text",
    "id": "Cds0pFD3wkHg"
   },
   "source": [
    "Introduced in 2015, the U-Net model is still popular and is also commonly seen embedded in more complex deep learning models\n",
    "\n",
    "The U-Net model is a simple fully  convolutional neural network that is used for binary segmentation i.e foreground and background pixel-wise classification. Mainly, it consists of two parts. \n",
    "\n",
    "*   Encoder: we apply a series of conv layers and downsampling layers  (max-pooling) layers to reduce the spatial size \n",
    "*   Decoder: we apply a series of upsampling layers to reconstruct the spatial size of the input. \n",
    "\n",
    "The two parts are connected using a concatenation layers among different levels. This allows learning different features at different levels. At the end we have a simple conv 1x1 layer to reduce the number of channels to 1. \n",
    "\n",
    "U-Net is symmetrical (hence the \"U\" in the name) and uses concatenation instead of addition to merge feature maps\n"
   ]
  },
  {
   "cell_type": "markdown",
   "metadata": {
    "colab_type": "text",
    "id": "dXaAcBS4e75C"
   },
   "source": [
    "#### IoU metric\n",
    "\n",
    "The intersection over union (IoU) or Jacard metric is a simple metric used to evaluate the performance of a segmentation algorithm. Given two masks $y_{true}, y_{pred}$ we evaluate \n",
    "\n",
    "$$IoU = \\frac{y_{true} \\cap y_{pred}}{y_{true} \\cup y_{pred}}$$\n",
    "\n",
    "The numerator is the number of common pixels, and the denominator is the total number of pixels in the two sets together"
   ]
  },
  {
   "cell_type": "code",
   "execution_count": null,
   "metadata": {
    "colab": {},
    "colab_type": "code",
    "id": "pVp-75iDe6ON"
   },
   "outputs": [],
   "source": [
    "def mean_iou(y_true, y_pred):\n",
    "    yt0 = y_true[:,:,:,0] #use the 3d image, not the 4d tensor\n",
    "    #binarize and make a float\n",
    "    yp0 = tf.keras.backend.cast(y_pred[:,:,:,0] > 0.5, 'float32')\n",
    "    # get the intersection (numerator in above equation) \n",
    "    inter = tf.math.count_nonzero(tf.logical_and(tf.equal(yt0, 1), tf.equal(yp0, 1)))\n",
    "    # get the union (denominator)\n",
    "    union = tf.math.count_nonzero(tf.add(yt0, yp0))\n",
    "    # compute iou as the ratio unless the denominator is zero\n",
    "    iou = tf.where(tf.equal(union, 0), 1., tf.cast(inter/union, 'float32'))\n",
    "    return iou"
   ]
  },
  {
   "cell_type": "code",
   "execution_count": null,
   "metadata": {
    "colab": {},
    "colab_type": "code",
    "id": "1kYoIiVUfRpc"
   },
   "outputs": [],
   "source": [
    "# we'll need a few more layers from keras\n",
    "from tensorflow.keras.layers import Concatenate, Conv2DTranspose"
   ]
  },
  {
   "cell_type": "markdown",
   "metadata": {
    "colab_type": "text",
    "id": "w7LgXRW7MP1L"
   },
   "source": [
    "##### Encoder\n",
    "\n",
    "Downsamples the 512  x 512 x 3 image progressively using six banks of convolutional filters, each using filters double in size to the previous, thereby progressively downsampling the inputs as features are extracted through max pooling"
   ]
  },
  {
   "cell_type": "code",
   "execution_count": null,
   "metadata": {
    "colab": {
     "base_uri": "https://localhost:8080/",
     "height": 119
    },
    "colab_type": "code",
    "executionInfo": {
     "elapsed": 914,
     "status": "ok",
     "timestamp": 1572816273392,
     "user": {
      "displayName": "Daniel Buscombe",
      "photoUrl": "",
      "userId": "01832231008732716345"
     },
     "user_tz": 420
    },
    "id": "kE0MU0FoMJ5_",
    "outputId": "53265bb2-8a57-4de0-bb79-2b93020d62b5"
   },
   "outputs": [],
   "source": [
    "inputs = Input((512, 512, 3))\n",
    "_tensor = inputs\n",
    "  \n",
    "#down sampling \n",
    "f = 8 #initially, use an 8-pixel kernel for the convolutional filter\n",
    "layers = []\n",
    "\n",
    "#cycle through 6 iterations, each time reusing '_tensor' \n",
    "#on each iteration ...\n",
    "#pass through 2 convolutional blocks, append to the 'layers' output list\n",
    "#then apply max pooling, and double the filter size for the next iteration\n",
    "for i in range(0, 6):\n",
    "   _tensor = Conv2D(f, 3, activation='relu', padding='same') (_tensor)\n",
    "   _tensor = Conv2D(f, 3, activation='relu', padding='same') (_tensor)\n",
    "   layers.append(_tensor)\n",
    "   _tensor = MaxPooling2D() (_tensor)\n",
    "   f = f*2\n",
    "   print(_tensor.shape)"
   ]
  },
  {
   "cell_type": "markdown",
   "metadata": {
    "colab_type": "text",
    "id": "wfkYitTbe_HT"
   },
   "source": [
    "A 'bottleneck' is just machine learning jargon for a very low-dimensional feature representation of a high dimensional input. Or, a relatively small vector of numbers that distill the essential information about a large image"
   ]
  },
  {
   "cell_type": "code",
   "execution_count": null,
   "metadata": {
    "colab": {
     "base_uri": "https://localhost:8080/",
     "height": 34
    },
    "colab_type": "code",
    "executionInfo": {
     "elapsed": 578,
     "status": "ok",
     "timestamp": 1572816273393,
     "user": {
      "displayName": "Daniel Buscombe",
      "photoUrl": "",
      "userId": "01832231008732716345"
     },
     "user_tz": 420
    },
    "id": "0YHo_-MDNdmj",
    "outputId": "171e6eec-01d4-48c2-d318-b6abdd7f3e7a"
   },
   "outputs": [],
   "source": [
    "ff2 = 64 ##use an 64-pixel kernel for the convolutional filter\n",
    "  \n",
    "#bottleneck \n",
    "j = len(layers) - 1\n",
    "_tensor = Conv2D(f, 3, activation='relu', padding='same') (_tensor)\n",
    "_tensor = Conv2D(f, 3, activation='relu', padding='same') (_tensor)\n",
    "_tensor = Conv2DTranspose(ff2, 2, strides=(2, 2), padding='same') (_tensor)\n",
    "# use concatenate to merge feature maps\n",
    "_tensor = Concatenate(axis=3)([_tensor, layers[j]])\n",
    "j = j -1 \n",
    "\n",
    "print(_tensor.shape)"
   ]
  },
  {
   "cell_type": "markdown",
   "metadata": {
    "colab_type": "text",
    "id": "699g8JleP5jh"
   },
   "source": [
    "An input of 512 x 512 x 3 (>780,000 numbers) has been distilled to a 'bottleneck' of 16 x 16 x 320 (<82,000 numbers) "
   ]
  },
  {
   "cell_type": "markdown",
   "metadata": {
    "colab_type": "text",
    "id": "_i0M4SjdMX38"
   },
   "source": [
    "##### Decoder\n",
    "\n",
    "Upsamples the bottleneck into a 512  x 512 x 1 label image progressively using six banks of convolutional filters, each using filters half in size to the previous, thereby progressively upsampling the inputs as features are extracted through transpose convolutions and concatenation"
   ]
  },
  {
   "cell_type": "code",
   "execution_count": null,
   "metadata": {
    "colab": {
     "base_uri": "https://localhost:8080/",
     "height": 34
    },
    "colab_type": "code",
    "executionInfo": {
     "elapsed": 604,
     "status": "ok",
     "timestamp": 1572816273931,
     "user": {
      "displayName": "Daniel Buscombe",
      "photoUrl": "",
      "userId": "01832231008732716345"
     },
     "user_tz": 420
    },
    "id": "ifC_qlr0MT2x",
    "outputId": "d2e159c5-2020-4c40-ea67-10dc30372dd6"
   },
   "outputs": [],
   "source": [
    "#upsampling \n",
    "for i in range(0, 5):\n",
    "  ff2 = ff2//2\n",
    "  f = f // 2 \n",
    "  _tensor = Conv2D(f, 3, activation='relu', padding='same') (_tensor)\n",
    "  _tensor = Conv2D(f, 3, activation='relu', padding='same') (_tensor)\n",
    "  _tensor = Conv2DTranspose(ff2, 2, strides=(2, 2), padding='same') (_tensor)\n",
    "  _tensor = Concatenate(axis=3)([_tensor, layers[j]])\n",
    "  j = j -1 \n",
    "\n",
    "_tensor = Conv2D(f, 3, activation='relu', padding='same') (_tensor)\n",
    "_tensor = Conv2D(f, 3, activation='relu', padding='same') (_tensor)  \n",
    "_tensor.shape"
   ]
  },
  {
   "cell_type": "markdown",
   "metadata": {
    "colab_type": "text",
    "id": "hmrmKQ2V6qeY"
   },
   "source": [
    "Transposed convolution?\n",
    "\n",
    "This relatively new type of deep learning model layer convolves a dilated version of the input tensor, in order to upscale the output. The dilation operation consists of interleaving zeroed rows and columns between each pair of adjacent rows and columns in the input tensor. The dilation rate is the stride length (we use 2 x 2 above) "
   ]
  },
  {
   "cell_type": "markdown",
   "metadata": {
    "colab_type": "text",
    "id": "gYu2SniNPUXU"
   },
   "source": [
    "Finally, make the classification layer using one final convolutional layers that essentially just maps (by squishing over 16 layers) the output of the previous layer to a single 2D output (with values ranging from 0 to 1) based on a sigmoid activation function"
   ]
  },
  {
   "cell_type": "code",
   "execution_count": null,
   "metadata": {
    "colab": {},
    "colab_type": "code",
    "id": "FaG9CPBCPUiU"
   },
   "outputs": [],
   "source": [
    "#classification layer\n",
    "outputs = Conv2D(1, 1, activation='sigmoid') (_tensor)"
   ]
  },
  {
   "cell_type": "markdown",
   "metadata": {
    "colab_type": "text",
    "id": "DwWjQXJ7wlxm"
   },
   "source": [
    "Make a ```unet``` instance and print a summary to screen"
   ]
  },
  {
   "cell_type": "code",
   "execution_count": null,
   "metadata": {
    "colab": {
     "base_uri": "https://localhost:8080/",
     "height": 1000
    },
    "colab_type": "code",
    "executionInfo": {
     "elapsed": 362,
     "status": "ok",
     "timestamp": 1572816275545,
     "user": {
      "displayName": "Daniel Buscombe",
      "photoUrl": "",
      "userId": "01832231008732716345"
     },
     "user_tz": 420
    },
    "id": "8mQNZinGMegm",
    "outputId": "02d4da36-6fa1-48c3-dc8b-9c7283a0a540"
   },
   "outputs": [],
   "source": [
    "  #model creation \n",
    "  model = Model(inputs=[inputs], outputs=[outputs])\n",
    "  model.summary()"
   ]
  },
  {
   "cell_type": "markdown",
   "metadata": {
    "colab_type": "text",
    "id": "wxVdwBCcd-Ws"
   },
   "source": [
    "It is a fairly large model with over 6 million parameters"
   ]
  },
  {
   "cell_type": "markdown",
   "metadata": {
    "colab_type": "text",
    "id": "-JjjeUc2TftI"
   },
   "source": [
    "<table style=\"font-size: 1em; padding: 0; margin: 0;\">\n",
    "<p style=\"border: 1px solid #ff5733; border-left: 15px solid #ff5733; padding: 10px; text-align:justify;\">\n",
    "    <strong style=\"color: #ff5733\">Deliverable</strong>  \n",
    "    <br/>The deliverable for Part 3 is a jupyter notebook showing a workflow to set up U-Net models for training using NWPU-RESISC45 lake images and corresponding labels. This will mostly test your understanding of the generic workflow of setting up multiple models for sequential training, in order to evaluate and compare model outputs and ultimately decide which model is best for the task, as well as how to implement custom conditional random fields for refining labels and segmentations in Parts 4 and 5.\n",
    "    </p>"
   ]
  },
  {
   "cell_type": "code",
   "execution_count": null,
   "metadata": {
    "colab": {},
    "colab_type": "code",
    "id": "U7r5Gz2ITftI"
   },
   "outputs": [],
   "source": []
  }
 ],
 "metadata": {
  "accelerator": "GPU",
  "colab": {
   "collapsed_sections": [],
   "machine_shape": "hm",
   "name": "Part3_SegImages.ipynb",
   "provenance": [],
   "toc_visible": true
  },
  "kernelspec": {
   "display_name": "Python 3",
   "language": "python",
   "name": "python3"
  },
  "language_info": {
   "codemirror_mode": {
    "name": "ipython",
    "version": 3
   },
   "file_extension": ".py",
   "mimetype": "text/x-python",
   "name": "python",
   "nbconvert_exporter": "python",
   "pygments_lexer": "ipython3",
   "version": "3.7.4"
  }
 },
 "nbformat": 4,
 "nbformat_minor": 1
}
