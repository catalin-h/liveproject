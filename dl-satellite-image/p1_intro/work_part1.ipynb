{
 "cells": [
  {
   "cell_type": "code",
   "execution_count": 3,
   "metadata": {},
   "outputs": [],
   "source": [
    "import numpy as np;"
   ]
  },
  {
   "cell_type": "code",
   "execution_count": 6,
   "metadata": {},
   "outputs": [],
   "source": [
    "a = np.arange(12)"
   ]
  },
  {
   "cell_type": "code",
   "execution_count": null,
   "metadata": {},
   "outputs": [],
   "source": [
    "a = np.aran"
   ]
  },
  {
   "cell_type": "code",
   "execution_count": 9,
   "metadata": {},
   "outputs": [
    {
     "data": {
      "text/plain": [
       "array([ 0,  1,  2,  3,  4,  5,  6,  7,  8,  9, 10, 11])"
      ]
     },
     "execution_count": 9,
     "metadata": {},
     "output_type": "execute_result"
    }
   ],
   "source": [
    "a"
   ]
  },
  {
   "cell_type": "code",
   "execution_count": 16,
   "metadata": {},
   "outputs": [
    {
     "data": {
      "text/plain": [
       "2.75"
      ]
     },
     "execution_count": 16,
     "metadata": {},
     "output_type": "execute_result"
    }
   ],
   "source": [
    "np.mean(a)"
   ]
  },
  {
   "cell_type": "code",
   "execution_count": 15,
   "metadata": {},
   "outputs": [
    {
     "data": {
      "text/plain": [
       "5.5"
      ]
     },
     "execution_count": 15,
     "metadata": {},
     "output_type": "execute_result"
    }
   ],
   "source": [
    "np.mean(a[a>5])"
   ]
  },
  {
   "cell_type": "code",
   "execution_count": 12,
   "metadata": {},
   "outputs": [],
   "source": [
    "a = a/2"
   ]
  },
  {
   "cell_type": "code",
   "execution_count": 13,
   "metadata": {},
   "outputs": [
    {
     "data": {
      "text/plain": [
       "array([0. , 0.5, 1. , 1.5, 2. , 2.5, 3. , 3.5, 4. , 4.5, 5. , 5.5])"
      ]
     },
     "execution_count": 13,
     "metadata": {},
     "output_type": "execute_result"
    }
   ],
   "source": [
    "a"
   ]
  },
  {
   "cell_type": "code",
   "execution_count": 26,
   "metadata": {},
   "outputs": [
    {
     "name": "stdout",
     "output_type": "stream",
     "text": [
      "4 0.0\n",
      "5 0.5\n",
      "6 1.0\n",
      "7 1.5\n",
      "8 2.0\n",
      "9 2.5\n",
      "10 3.0\n",
      "11 3.5\n",
      "12 4.0\n",
      "13 4.5\n",
      "14 5.0\n",
      "15 5.5\n"
     ]
    }
   ],
   "source": [
    "for e,i in enumerate(a, start=4):\n",
    "    print(e, i)"
   ]
  },
  {
   "cell_type": "code",
   "execution_count": 6,
   "metadata": {},
   "outputs": [],
   "source": [
    "file_list = ['r1.tif', 'r2.tif', 'r3.tif']"
   ]
  },
  {
   "cell_type": "code",
   "execution_count": 7,
   "metadata": {},
   "outputs": [
    {
     "name": "stdout",
     "output_type": "stream",
     "text": [
      "r1.tif 0\n",
      "r2.tif 1\n",
      "r3.tif 2\n"
     ]
    },
    {
     "data": {
      "text/plain": [
       "[None, None, None]"
      ]
     },
     "execution_count": 7,
     "metadata": {},
     "output_type": "execute_result"
    }
   ],
   "source": [
    "[print(f, other) for f,other in zip(file_list, [0,1,2,3])]"
   ]
  },
  {
   "cell_type": "code",
   "execution_count": 51,
   "metadata": {},
   "outputs": [
    {
     "data": {
      "text/plain": [
       "'/mnt/d/work/DeepLearningSatelliteImage/1_GettingStarted'"
      ]
     },
     "execution_count": 51,
     "metadata": {},
     "output_type": "execute_result"
    }
   ],
   "source": [
    "import os\n",
    "os.getcwd()"
   ]
  },
  {
   "cell_type": "code",
   "execution_count": 3,
   "metadata": {},
   "outputs": [],
   "source": [
    "import rasterio\n",
    "import glob"
   ]
  },
  {
   "cell_type": "code",
   "execution_count": 4,
   "metadata": {},
   "outputs": [],
   "source": [
    "def write_image(input, output, band):\n",
    "    with rasterio.open(input) as src_dataset:\n",
    "        with rasterio.open('example_TCI_10m.jp2', driver='JP2OpenJPEG') as dataset:\n",
    "            array = dataset.read(band)\n",
    "        # Get a copy of the source dataset's profile. Thus our\n",
    "        # destination dataset will have the same dimensions,\n",
    "        # number of bands, data type, and georeferencing as the\n",
    "        # source dataset.\n",
    "        kwds = src_dataset.profile\n",
    "\n",
    "        # Change the format driver for the destination dataset to\n",
    "        # 'GTiff', short for GeoTIFF.\n",
    "        kwds['driver'] = 'GTiff'\n",
    "\n",
    "        # Add GeoTIFF-specific keyword arguments.\n",
    "        kwds['tiled'] = True\n",
    "        kwds['blockxsize'] = 256\n",
    "        kwds['blockysize'] = 256\n",
    "        kwds['photometric'] = 'YCBCR'\n",
    "        kwds['compress'] = 'JPEG'\n",
    "\n",
    "        with rasterio.open(output, 'w', **kwds) as dst_dataset:\n",
    "            # Write data to the destination dataset.\n",
    "            dst_dataset.write(array.astype(rasterio.uint8), band)"
   ]
  },
  {
   "cell_type": "code",
   "execution_count": 8,
   "metadata": {},
   "outputs": [
    {
     "data": {
      "text/plain": [
       "[None, None, None]"
      ]
     },
     "execution_count": 8,
     "metadata": {},
     "output_type": "execute_result"
    }
   ],
   "source": [
    "[write_image('example_TCI_10m.jp2',f, band) for f,band in zip(file_list, [1, 2, 3])]"
   ]
  },
  {
   "cell_type": "code",
   "execution_count": 246,
   "metadata": {},
   "outputs": [],
   "source": [
    "def merge_bands(bands_tiff_list, output_tiff_name):\n",
    "    with rasterio.open(bands_tiff_list[0]) as band:\n",
    "        out_meta = band.meta\n",
    "\n",
    "    out_meta.update(count = len(bands_tiff_list))\n",
    "\n",
    "    with rasterio.open(output_tiff_name, 'w', **out_meta) as out_tiff:\n",
    "        for i, band_tiff in enumerate(bands_tiff_list, start=1):\n",
    "            print('writing {} @index:{} ...'.format(band_tiff, i))\n",
    "            with rasterio.open(band_tiff) as band:\n",
    "                print('band profile: {}'.format(band.profile))\n",
    "                out_tiff.write_band(i, band.read(i))\n",
    "\n",
    "    print('done writing {}'.format(output_tiff_name))"
   ]
  },
  {
   "cell_type": "code",
   "execution_count": 247,
   "metadata": {},
   "outputs": [
    {
     "name": "stdout",
     "output_type": "stream",
     "text": [
      "writing r1.tif @index:1 ...\n",
      "band profile: {'driver': 'GTiff', 'dtype': 'uint8', 'nodata': None, 'width': 10980, 'height': 10980, 'count': 3, 'crs': CRS({'init': 'epsg:32719'}), 'transform': (600000.0, 10.0, 0.0, 8000020.0, 0.0, -10.0), 'affine': Affine(10.0, 0.0, 600000.0,\n",
      "       0.0, -10.0, 8000020.0), 'blockxsize': 256, 'blockysize': 256, 'compress': 'jpeg', 'interleave': 'pixel', 'photometric': 'ycbcr', 'tiled': True}\n",
      "writing r2.tif @index:2 ...\n",
      "band profile: {'driver': 'GTiff', 'dtype': 'uint8', 'nodata': None, 'width': 10980, 'height': 10980, 'count': 3, 'crs': CRS({'init': 'epsg:32719'}), 'transform': (600000.0, 10.0, 0.0, 8000020.0, 0.0, -10.0), 'affine': Affine(10.0, 0.0, 600000.0,\n",
      "       0.0, -10.0, 8000020.0), 'blockxsize': 256, 'blockysize': 256, 'compress': 'jpeg', 'interleave': 'pixel', 'photometric': 'ycbcr', 'tiled': True}\n",
      "writing r3.tif @index:3 ...\n",
      "band profile: {'driver': 'GTiff', 'dtype': 'uint8', 'nodata': None, 'width': 10980, 'height': 10980, 'count': 3, 'crs': CRS({'init': 'epsg:32719'}), 'transform': (600000.0, 10.0, 0.0, 8000020.0, 0.0, -10.0), 'affine': Affine(10.0, 0.0, 600000.0,\n",
      "       0.0, -10.0, 8000020.0), 'blockxsize': 256, 'blockysize': 256, 'compress': 'jpeg', 'interleave': 'pixel', 'photometric': 'ycbcr', 'tiled': True}\n",
      "done writing stack.tif\n"
     ]
    }
   ],
   "source": [
    "merge_bands(file_list, 'stack.tif')"
   ]
  },
  {
   "cell_type": "code",
   "execution_count": 9,
   "metadata": {},
   "outputs": [],
   "source": [
    "def print_meta(input_tiff):\n",
    "    with rasterio.open(input_tiff) as tiff:\n",
    "        print(tiff.meta)"
   ]
  },
  {
   "cell_type": "code",
   "execution_count": 10,
   "metadata": {},
   "outputs": [
    {
     "name": "stdout",
     "output_type": "stream",
     "text": [
      "{'driver': 'GTiff', 'dtype': 'uint8', 'nodata': None, 'width': 10980, 'height': 10980, 'count': 3, 'crs': CRS.from_epsg(32719), 'transform': Affine(10.0, 0.0, 600000.0,\n",
      "       0.0, -10.0, 8000020.0)}\n"
     ]
    }
   ],
   "source": [
    "print_meta('stack.tif')"
   ]
  },
  {
   "cell_type": "code",
   "execution_count": 11,
   "metadata": {},
   "outputs": [],
   "source": [
    "from rasterio.warp import calculate_default_transform\n",
    "from rasterio.warp import reproject, Resampling\n",
    "\n",
    "def reproject_tif_to_crs(tif_file, dest_crs, out_tif_file):\n",
    "    with rasterio.open(tif_file) as src_tif:\n",
    "        trans, width, height = calculate_default_transform(\n",
    "        src_tif.crs, dest_crs, src_tif.width, src_tif.height,\n",
    "        *src_tif.bounds)\n",
    "\n",
    "        meta_wargs = src_tif.meta.copy()\n",
    "        meta_wargs.update({\n",
    "            'crs' : dest_crs,\n",
    "            'transform' : trans,\n",
    "            'width' : width,\n",
    "            'height' : height\n",
    "        })\n",
    "\n",
    "        print ('reproject tif:{}\\n from:{}\\n to:{}\\n'\n",
    "               .format(tif_file, src_tif.meta, meta_wargs))\n",
    "        print ('writing reprojected tif to:{}'\n",
    "               .format(out_tif_file))\n",
    "\n",
    "        with rasterio.open(out_tif_file, 'w',\n",
    "                       **meta_wargs) as dest_tif:\n",
    "            for band_idx in range(1, src_tif.count + 1):\n",
    "                reproject(\n",
    "                    source=rasterio.band(src_tif, band_idx),\n",
    "                    destination=rasterio.band(dest_tif, band_idx),\n",
    "                    src_transform=src_tif.transform,\n",
    "                    src_crs=src_tif.crs,\n",
    "                    dst_transform=trans,\n",
    "                    dst_crs=dest_crs,\n",
    "                    resampling=Resampling.nearest)"
   ]
  },
  {
   "cell_type": "code",
   "execution_count": 250,
   "metadata": {},
   "outputs": [
    {
     "name": "stdout",
     "output_type": "stream",
     "text": [
      "reproject tif:stack.tif\n",
      " from:{'driver': 'GTiff', 'dtype': 'uint8', 'nodata': None, 'width': 10980, 'height': 10980, 'count': 3, 'crs': CRS({'init': 'epsg:32719'}), 'transform': (600000.0, 10.0, 0.0, 8000020.0, 0.0, -10.0), 'affine': Affine(10.0, 0.0, 600000.0,\n",
      "       0.0, -10.0, 8000020.0)}\n",
      " to:{'driver': 'GTiff', 'dtype': 'uint8', 'nodata': None, 'width': 11325, 'height': 10799, 'count': 3, 'crs': 'EPSG:4326', 'transform': Affine(9.261262692878677e-05, 0.0, -68.05495401811122,\n",
      "       0.0, -9.261262692878677e-05, -18.078345401611326), 'affine': Affine(10.0, 0.0, 600000.0,\n",
      "       0.0, -10.0, 8000020.0)}\n",
      "\n",
      "writing reprojected tif to:reprojected_stack.tif\n"
     ]
    },
    {
     "name": "stderr",
     "output_type": "stream",
     "text": [
      "/mnt/d/anaconda3/envs/liveproject/lib/python3.7/site-packages/ipykernel_launcher.py:2: FutureWarning: The value of this property will change in version 1.0. Please see https://github.com/mapbox/rasterio/issues/86 for details.\n",
      "  \n"
     ]
    }
   ],
   "source": [
    "reproject_tif_to_crs('stack.tif', 'EPSG:4326',\n",
    "                     'reprojected_stack.tif')"
   ]
  },
  {
   "cell_type": "code",
   "execution_count": 251,
   "metadata": {},
   "outputs": [
    {
     "name": "stdout",
     "output_type": "stream",
     "text": [
      "{'driver': 'GTiff', 'dtype': 'uint8', 'nodata': None, 'width': 11325, 'height': 10799, 'count': 3, 'crs': CRS({'init': 'epsg:4326'}), 'transform': (-68.05495401811122, 9.261262692878677e-05, 0.0, -18.078345401611326, 0.0, -9.261262692878677e-05), 'affine': Affine(9.261262692878677e-05, 0.0, -68.05495401811122,\n",
      "       0.0, -9.261262692878677e-05, -18.078345401611326)}\n"
     ]
    }
   ],
   "source": [
    "print_meta('reprojected_stack.tif')"
   ]
  },
  {
   "cell_type": "code",
   "execution_count": 88,
   "metadata": {},
   "outputs": [
    {
     "name": "stdout",
     "output_type": "stream",
     "text": [
      "rasterio's version is: 1.1.0\n"
     ]
    }
   ],
   "source": [
    "import rasterio\n",
    "print(\"rasterio's version is: \" + rasterio.__version__)"
   ]
  },
  {
   "cell_type": "markdown",
   "metadata": {},
   "source": [
    "#### Change image resolution example"
   ]
  },
  {
   "cell_type": "code",
   "execution_count": 22,
   "metadata": {},
   "outputs": [],
   "source": [
    "import numpy as np\n",
    "import rasterio\n",
    "from rasterio import Affine as A\n",
    "from rasterio.warp import reproject, Resampling\n",
    "\n",
    "# change resolution by scale\n",
    "def resample_tif_resolution(tif_file, scale, out_tif_file):\n",
    "    with rasterio.open(tif_file) as src_tif:\n",
    "        src_transform = src_tif.transform\n",
    "        dst_transform = src_transform\n",
    "\n",
    "        data = src_tif.read()\n",
    "        kwargs = src_tif.meta\n",
    "        kwargs['width'] = src_tif.width//scale\n",
    "        kwargs['height'] = src_tif.height//scale\n",
    "\n",
    "        with rasterio.open(out_tif_file, 'w', **kwargs) as dst:\n",
    "            for i, band in enumerate(data, 1):\n",
    "                dest = np.zeros_like(band)\n",
    "\n",
    "                reproject(band,\n",
    "                    dest,\n",
    "                    src_transform=src_transform,\n",
    "                    src_crs=src_tif.crs,\n",
    "                    dst_transform=dst_transform,\n",
    "                    dst_crs=src_tif.crs,\n",
    "                    resampling=Resampling.bilinear)\n",
    "\n",
    "                dst.write(dest, indexes=i)"
   ]
  },
  {
   "cell_type": "code",
   "execution_count": 29,
   "metadata": {},
   "outputs": [],
   "source": [
    "resample_tif_resolution('reprojected_stack.tif', 5, 'reprojected_stack_5x.tif')"
   ]
  },
  {
   "cell_type": "code",
   "execution_count": 30,
   "metadata": {},
   "outputs": [],
   "source": [
    "resample_tif_resolution('reprojected_stack_5x.tif', 0.9, 'reprojected_stack_5x_09x.tif')"
   ]
  },
  {
   "cell_type": "markdown",
   "metadata": {},
   "source": [
    "#### Simple zoom and compress"
   ]
  },
  {
   "cell_type": "code",
   "execution_count": 74,
   "metadata": {},
   "outputs": [],
   "source": [
    "from rasterio import Affine\n",
    "\n",
    "# simple zoom in/out by scale\n",
    "def zoom_scale_tif(tif_file, scale, out_tif_file):\n",
    "    with rasterio.open(tif_file) as src_tif:\n",
    "        src_transform = src_tif.transform\n",
    "        dst_transform = (src_transform\n",
    "                         *A.translation(-src_tif.width / scale,\n",
    "                                        -src_tif.height / scale)\n",
    "                         *A.scale(scale))\n",
    "\n",
    "        data = src_tif.read()\n",
    "        kwargs = src_tif.meta\n",
    "        kwargs['transform'] = dst_transform\n",
    "        kwargs['compress'] ='lzw'\n",
    "\n",
    "        with rasterio.open(out_tif_file, 'w', **kwargs) as dst:\n",
    "            for i, band in enumerate(data, 1):\n",
    "                dest = np.zeros_like(band)\n",
    "\n",
    "                reproject(band,\n",
    "                    dest,\n",
    "                    src_transform=src_transform,\n",
    "                    src_crs=src_tif.crs,\n",
    "                    dst_transform=dst_transform,\n",
    "                    dst_crs=src_tif.crs,\n",
    "                    resampling=Resampling.nearest)\n",
    "\n",
    "                dst.write(dest, indexes=i)"
   ]
  },
  {
   "cell_type": "code",
   "execution_count": 75,
   "metadata": {},
   "outputs": [],
   "source": [
    "zoom_scale_tif('reprojected_stack_5x_09x.tif', 2.0, 'reprojected_stack_5x_09x_2z0.tif' )"
   ]
  },
  {
   "cell_type": "markdown",
   "metadata": {},
   "source": [
    "#### Save partial image using `rasterio.windows`"
   ]
  },
  {
   "cell_type": "code",
   "execution_count": 87,
   "metadata": {},
   "outputs": [],
   "source": [
    "from rasterio.windows import Window\n",
    "from rasterio.windows import get_data_window\n",
    "\n",
    "with rasterio.open('reprojected_stack_5x_09x.tif') as src:\n",
    "    b, g, r = (src.read(k, window=Window(100, 100, 612, 356)) for k in (1, 2, 3))\n",
    "\n",
    "with rasterio.open(\n",
    "        'reprojected_stack_5x_09x_win.tif', 'w',\n",
    "        driver='GTiff', width=512, height=256, count=3,\n",
    "        dtype=r.dtype) as dst:\n",
    "    for k, arr in [(1, b), (2, g), (3, r)]:\n",
    "        dst.write(arr, indexes=k, window=Window(0, 0, 512, 256))"
   ]
  },
  {
   "cell_type": "markdown",
   "metadata": {},
   "source": [
    "#### TensorFlow & Keras: image preprocessing example"
   ]
  },
  {
   "cell_type": "code",
   "execution_count": 91,
   "metadata": {},
   "outputs": [],
   "source": [
    "import numpy as np\n",
    "import tensorflow as tf\n",
    "from tensorflow import keras\n",
    "from tensorflow.keras import layers\n",
    "\n",
    "def get_seq_model(img_size=(28,28)):\n",
    "    return keras.Sequential([\n",
    "      layers.Flatten(input_shape=img_size),\n",
    "      layers.Dense(128, activation='relu'),\n",
    "      layers.Dropout(0.2),\n",
    "      layers.Dense(10, activation='softmax')\n",
    "    ])"
   ]
  },
  {
   "cell_type": "code",
   "execution_count": 92,
   "metadata": {},
   "outputs": [],
   "source": [
    "mnist = tf.keras.datasets.mnist\n",
    "\n",
    "(x_train, y_train), (x_test, y_test) = mnist.load_data()\n",
    "x_train, x_test = x_train / 255.0, x_test / 255.0"
   ]
  },
  {
   "cell_type": "markdown",
   "metadata": {},
   "source": [
    "#### The resize functions (`tf.image.resize`)"
   ]
  },
  {
   "cell_type": "code",
   "execution_count": 93,
   "metadata": {},
   "outputs": [],
   "source": [
    "def resize_np_img(np_2d, new_img_size=(64, 64)):\n",
    "    # add channel\n",
    "    np_2d_1_ch = np.reshape(np_2d, (*np_2d.shape, 1))\n",
    "    # resize using TF\n",
    "    img = tf.image.resize(np_2d_1_ch, new_img_size, method='gaussian')\n",
    "    # converto to numpy\n",
    "    np_2d_1_ch_resized = tf.keras.preprocessing.image.img_to_array(img)\n",
    "    return np.reshape(np_2d_1_ch_resized, new_img_size)\n",
    "\n",
    "def resize_np_images(images, new_size=(64,64)):\n",
    "    print('resize_np_images to {}:{}'.format(*new_size))\n",
    "    resized_imgs = np.empty((images.shape[0], *new_size), images.dtype)\n",
    "    for idx,img in enumerate(images):\n",
    "        resized_imgs[idx] = resize_np_img(img, new_size)\n",
    "\n",
    "    return resized_imgs"
   ]
  },
  {
   "cell_type": "code",
   "execution_count": 94,
   "metadata": {},
   "outputs": [
    {
     "name": "stdout",
     "output_type": "stream",
     "text": [
      "resize_np_images to 16:16\n",
      "resize_np_images to 16:16\n"
     ]
    }
   ],
   "source": [
    "new_shape=(16,16)\n",
    "x_train=resize_np_images(x_train, new_shape)\n",
    "x_test=resize_np_images(x_test, new_shape)"
   ]
  },
  {
   "cell_type": "code",
   "execution_count": 95,
   "metadata": {},
   "outputs": [
    {
     "name": "stdout",
     "output_type": "stream",
     "text": [
      "Model: \"sequential\"\n",
      "_________________________________________________________________\n",
      "Layer (type)                 Output Shape              Param #   \n",
      "=================================================================\n",
      "flatten (Flatten)            (None, 256)               0         \n",
      "_________________________________________________________________\n",
      "dense (Dense)                (None, 128)               32896     \n",
      "_________________________________________________________________\n",
      "dropout (Dropout)            (None, 128)               0         \n",
      "_________________________________________________________________\n",
      "dense_1 (Dense)              (None, 10)                1290      \n",
      "=================================================================\n",
      "Total params: 34,186\n",
      "Trainable params: 34,186\n",
      "Non-trainable params: 0\n",
      "_________________________________________________________________\n"
     ]
    }
   ],
   "source": [
    "model16x16=get_seq_model(new_shape)\n",
    "model16x16.summary()"
   ]
  },
  {
   "cell_type": "code",
   "execution_count": 96,
   "metadata": {},
   "outputs": [],
   "source": [
    "model16x16.compile(\n",
    "    loss=tf.keras.losses.SparseCategoricalCrossentropy(from_logits=True),\n",
    "    optimizer=tf.keras.optimizers.RMSprop(),\n",
    "    metrics=[\"accuracy\"],\n",
    ")"
   ]
  },
  {
   "cell_type": "code",
   "execution_count": 97,
   "metadata": {},
   "outputs": [
    {
     "name": "stdout",
     "output_type": "stream",
     "text": [
      "Train on 48000 samples, validate on 12000 samples\n",
      "Epoch 1/10\n",
      "48000/48000 [==============================] - 6s 115us/sample - loss: 1.7285 - accuracy: 0.7657 - val_loss: 1.6320 - val_accuracy: 0.8400\n",
      "Epoch 2/10\n",
      "48000/48000 [==============================] - 4s 76us/sample - loss: 1.6309 - accuracy: 0.8387 - val_loss: 1.6157 - val_accuracy: 0.8497\n",
      "Epoch 3/10\n",
      "48000/48000 [==============================] - 4s 84us/sample - loss: 1.6168 - accuracy: 0.8495 - val_loss: 1.6057 - val_accuracy: 0.8587\n",
      "Epoch 4/10\n",
      "48000/48000 [==============================] - 4s 79us/sample - loss: 1.6079 - accuracy: 0.8576 - val_loss: 1.6002 - val_accuracy: 0.8639\n",
      "Epoch 5/10\n",
      "48000/48000 [==============================] - 4s 89us/sample - loss: 1.6011 - accuracy: 0.8638 - val_loss: 1.5963 - val_accuracy: 0.8671\n",
      "Epoch 6/10\n",
      "48000/48000 [==============================] - 4s 76us/sample - loss: 1.5975 - accuracy: 0.8669 - val_loss: 1.5927 - val_accuracy: 0.8705\n",
      "Epoch 7/10\n",
      "48000/48000 [==============================] - 4s 84us/sample - loss: 1.5926 - accuracy: 0.8705 - val_loss: 1.5455 - val_accuracy: 0.9227\n",
      "Epoch 8/10\n",
      "48000/48000 [==============================] - 4s 80us/sample - loss: 1.5213 - accuracy: 0.9479 - val_loss: 1.5068 - val_accuracy: 0.9590\n",
      "Epoch 9/10\n",
      "48000/48000 [==============================] - 3s 73us/sample - loss: 1.5112 - accuracy: 0.9559 - val_loss: 1.5027 - val_accuracy: 0.9617\n",
      "Epoch 10/10\n",
      "48000/48000 [==============================] - 4s 73us/sample - loss: 1.5060 - accuracy: 0.9604 - val_loss: 1.4998 - val_accuracy: 0.9641\n"
     ]
    },
    {
     "data": {
      "text/plain": [
       "<tensorflow.python.keras.callbacks.History at 0x7f175c603a90>"
      ]
     },
     "execution_count": 97,
     "metadata": {},
     "output_type": "execute_result"
    }
   ],
   "source": [
    "model16x16.fit(x_train, y_train, batch_size=64, epochs=10, validation_split=0.2)"
   ]
  },
  {
   "cell_type": "code",
   "execution_count": 98,
   "metadata": {},
   "outputs": [
    {
     "data": {
      "text/plain": [
       "[1.4992268077850341, 0.9664]"
      ]
     },
     "execution_count": 98,
     "metadata": {},
     "output_type": "execute_result"
    }
   ],
   "source": [
    "model16x16.evaluate(x_test, y_test, verbose=0)"
   ]
  },
  {
   "cell_type": "code",
   "execution_count": null,
   "metadata": {},
   "outputs": [],
   "source": []
  }
 ],
 "metadata": {
  "kernelspec": {
   "display_name": "Python 3",
   "language": "python",
   "name": "python3"
  },
  "language_info": {
   "codemirror_mode": {
    "name": "ipython",
    "version": 3
   },
   "file_extension": ".py",
   "mimetype": "text/x-python",
   "name": "python",
   "nbconvert_exporter": "python",
   "pygments_lexer": "ipython3",
   "version": "3.7.0"
  }
 },
 "nbformat": 4,
 "nbformat_minor": 4
}
